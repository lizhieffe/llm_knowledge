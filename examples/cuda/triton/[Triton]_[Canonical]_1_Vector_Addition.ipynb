{
  "nbformat": 4,
  "nbformat_minor": 0,
  "metadata": {
    "colab": {
      "provenance": [],
      "gpuType": "T4",
      "authorship_tag": "ABX9TyMMDcwLYG+XckK3QRT17KGL",
      "include_colab_link": true
    },
    "kernelspec": {
      "name": "python3",
      "display_name": "Python 3"
    },
    "language_info": {
      "name": "python"
    },
    "accelerator": "GPU"
  },
  "cells": [
    {
      "cell_type": "markdown",
      "metadata": {
        "id": "view-in-github",
        "colab_type": "text"
      },
      "source": [
        "<a href=\"https://colab.research.google.com/github/lizhieffe/llm_knowledge/blob/main/%5BTriton%5D_%5BCanonical%5D_1_Vector_Addition.ipynb\" target=\"_parent\"><img src=\"https://colab.research.google.com/assets/colab-badge.svg\" alt=\"Open In Colab\"/></a>"
      ]
    },
    {
      "cell_type": "markdown",
      "source": [
        "# Instruction: https://triton-lang.org/main/getting-started/tutorials/01-vector-add.html"
      ],
      "metadata": {
        "id": "anuBW9FWQLYL"
      }
    },
    {
      "cell_type": "code",
      "source": [
        "!uv pip install -U --index-url https://aiinfra.pkgs.visualstudio.com/PublicPackages/_packaging/Triton-Nightly/pypi/simple/ triton-nightly"
      ],
      "metadata": {
        "colab": {
          "base_uri": "https://localhost:8080/"
        },
        "id": "xm-WrtzzQ_H0",
        "outputId": "ce96eba6-8c0c-4b95-fc1c-2ae34bab712e"
      },
      "execution_count": 1,
      "outputs": [
        {
          "output_type": "stream",
          "name": "stdout",
          "text": [
            "\u001b[2mUsing Python 3.11.13 environment at: /usr\u001b[0m\n",
            "\u001b[2K\u001b[2mResolved \u001b[1m2 packages\u001b[0m \u001b[2min 1.45s\u001b[0m\u001b[0m\n",
            "\u001b[2mAudited \u001b[1m2 packages\u001b[0m \u001b[2min 0.17ms\u001b[0m\u001b[0m\n"
          ]
        }
      ]
    },
    {
      "cell_type": "code",
      "source": [
        "import torch\n",
        "\n",
        "import triton\n",
        "import triton.language as tl"
      ],
      "metadata": {
        "id": "e-F_ZsN5QT11"
      },
      "execution_count": 2,
      "outputs": []
    },
    {
      "cell_type": "code",
      "source": [
        "# The command doesn't work: https://github.com/triton-lang/triton/issues/5388\n",
        "# DEVICE = triton.runtime.driver.active.get_active_torch_device()\n",
        "\n",
        "DEVICE = torch.device(\"cuda:0\")"
      ],
      "metadata": {
        "id": "DX5G7equQcsC"
      },
      "execution_count": 4,
      "outputs": []
    },
    {
      "cell_type": "code",
      "source": [
        "# @title Triton fn\n",
        "\n",
        "@triton.jit\n",
        "def add_kernel(\n",
        "    x_ptr,\n",
        "    y_ptr,\n",
        "    output_ptr,\n",
        "    n_elements, # total elements in x or y to apply element-wise addition\n",
        "    BLOCK_SIZE: tl.constexpr,\n",
        "):\n",
        "  pid = tl.program_id(axis=0)\n",
        "  # print(f\"{pid=}\")\n",
        "\n",
        "  block_start = pid * BLOCK_SIZE\n",
        "  offsets = block_start + tl.arange(0, BLOCK_SIZE)\n",
        "  mask = tl.where(offsets < n_elements, True, False)\n",
        "\n",
        "  x = tl.load(x_ptr + offsets, mask, 0)\n",
        "  y = tl.load(y_ptr + offsets, mask, 0)\n",
        "\n",
        "  ret = x + y\n",
        "\n",
        "  tl.store(output_ptr + offsets, ret, mask=mask)"
      ],
      "metadata": {
        "id": "82xAPCD5QjC3"
      },
      "execution_count": 14,
      "outputs": []
    },
    {
      "cell_type": "code",
      "source": [
        "def add(x: torch.Tensor, y: torch.Tensor):\n",
        "  output = torch.empty_like(x)\n",
        "  assert x.device == DEVICE and y.device == DEVICE and output.device == DEVICE\n",
        "  n_elements = output.shape[0]\n",
        "  grid = lambda meta: (triton.cdiv(n_elements, meta['BLOCK_SIZE']), )\n",
        "  add_kernel[grid](x, y, output, n_elements, BLOCK_SIZE=1024)\n",
        "  return output"
      ],
      "metadata": {
        "id": "-zGtjiqUS1K6"
      },
      "execution_count": 15,
      "outputs": []
    },
    {
      "cell_type": "code",
      "source": [
        "torch.manual_seed(0)\n",
        "size = 98432\n",
        "x = torch.rand(size, device=DEVICE)\n",
        "y = torch.rand(size, device=DEVICE)\n",
        "output_cpu = x + y\n",
        "output_triton = add(x, y)\n",
        "# print(f\"{output_triton=}\")\n",
        "assert torch.allclose(output_cpu, output_triton)"
      ],
      "metadata": {
        "id": "AmOrsveCUSdL"
      },
      "execution_count": 22,
      "outputs": []
    },
    {
      "cell_type": "code",
      "source": [
        "@triton.testing.perf_report(\n",
        "    triton.testing.Benchmark(\n",
        "        x_names=['size'],  # Argument names to use as an x-axis for the plot.\n",
        "        x_vals=[2**i for i in range(12, 28, 1)],  # Different possible values for `x_name`.\n",
        "        x_log=True,  # x axis is logarithmic.\n",
        "        line_arg='provider',  # Argument name whose value corresponds to a different line in the plot.\n",
        "        line_vals=['triton', 'torch'],  # Possible values for `line_arg`.\n",
        "        line_names=['Triton', 'Torch'],  # Label name for the lines.\n",
        "        styles=[('blue', '-'), ('green', '-')],  # Line styles.\n",
        "        ylabel='GB/s',  # Label name for the y-axis.\n",
        "        plot_name='vector-add-performance',  # Name for the plot. Used also as a file name for saving the plot.\n",
        "        args={},  # Values for function arguments not in `x_names` and `y_name`.\n",
        "    ))\n",
        "def benchmark(size, provider):\n",
        "    x = torch.rand(size, device=DEVICE, dtype=torch.float32)\n",
        "    y = torch.rand(size, device=DEVICE, dtype=torch.float32)\n",
        "    quantiles = [0.5, 0.2, 0.8]\n",
        "    if provider == 'torch':\n",
        "        ms, min_ms, max_ms = triton.testing.do_bench(lambda: x + y, quantiles=quantiles)\n",
        "    if provider == 'triton':\n",
        "        ms, min_ms, max_ms = triton.testing.do_bench(lambda: add(x, y), quantiles=quantiles)\n",
        "    gbps = lambda ms: 3 * x.numel() * x.element_size() * 1e-9 / (ms * 1e-3)\n",
        "    return gbps(ms), gbps(max_ms), gbps(min_ms)"
      ],
      "metadata": {
        "id": "tudkyIpHWfZB"
      },
      "execution_count": 20,
      "outputs": []
    },
    {
      "cell_type": "code",
      "source": [
        "benchmark.run(print_data=True, show_plots=True)\n"
      ],
      "metadata": {
        "colab": {
          "base_uri": "https://localhost:8080/",
          "height": 766
        },
        "id": "fSuOYYznWhiG",
        "outputId": "66419e27-d2c1-4130-fd85-caf9699b22ff"
      },
      "execution_count": 21,
      "outputs": [
        {
          "output_type": "display_data",
          "data": {
            "text/plain": [
              "<Figure size 640x480 with 1 Axes>"
            ],
            "image/png": "[encoded data removed]"
          },
          "metadata": {}
        },
        {
          "output_type": "stream",
          "name": "stdout",
          "text": [
            "vector-add-performance:\n",
            "           size      Triton       Torch\n",
            "0        4096.0    7.245283    7.438257\n",
            "1        8192.0   14.912622   15.999999\n",
            "2       16384.0   38.763407   40.959998\n",
            "3       32768.0   62.693880   63.999998\n",
            "4       65536.0   96.000000   96.000000\n",
            "5      131072.0  143.300295  143.300295\n",
            "6      262144.0  183.745795  174.297876\n",
            "7      524288.0  206.521014  194.468840\n",
            "8     1048576.0  219.428568  219.428568\n",
            "9     2097152.0  228.017399  231.849058\n",
            "10    4194304.0  234.057145  238.855578\n",
            "11    8388608.0  237.270178  240.793635\n",
            "12   16777216.0  238.601945  242.828986\n",
            "13   33554432.0  240.558861  244.841842\n",
            "14   67108864.0  242.260945  244.891884\n",
            "15  134217728.0  242.799696  246.876239\n"
          ]
        }
      ]
    }
  ]
}
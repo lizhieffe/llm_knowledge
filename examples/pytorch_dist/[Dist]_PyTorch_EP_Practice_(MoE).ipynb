{
  "nbformat": 4,
  "nbformat_minor": 0,
  "metadata": {
    "colab": {
      "provenance": [],
      "authorship_tag": "ABX9TyOza+MVosSzxNsAp12gvHRl",
      "include_colab_link": true
    },
    "kernelspec": {
      "name": "python3",
      "display_name": "Python 3"
    },
    "language_info": {
      "name": "python"
    }
  },
  "cells": [
    {
      "cell_type": "markdown",
      "metadata": {
        "id": "view-in-github",
        "colab_type": "text"
      },
      "source": [
        "<a href=\"https://colab.research.google.com/github/lizhieffe/llm_knowledge/blob/main/examples/pytorch_dist/%5BDist%5D_PyTorch_EP_Practice_(MoE).ipynb\" target=\"_parent\"><img src=\"https://colab.research.google.com/assets/colab-badge.svg\" alt=\"Open In Colab\"/></a>"
      ]
    },
    {
      "cell_type": "code",
      "source": [
        "import os\n",
        "\n",
        "import torch\n",
        "import torch.nn as nn\n",
        "\n",
        "import torch.distributed as dist\n",
        "import torch.multiprocessing as mp"
      ],
      "metadata": {
        "id": "KAJ3aZ8aCv0w"
      },
      "execution_count": 5,
      "outputs": []
    },
    {
      "cell_type": "markdown",
      "source": [
        "# MLP\n",
        "\n",
        "Each MLP instance is an expert in MoE."
      ],
      "metadata": {
        "id": "Ok4AG9FMBcNT"
      }
    },
    {
      "cell_type": "code",
      "source": [
        "class MLP(nn.Module):\n",
        "  def __init__(self, emb_dim: int):\n",
        "    super().__init__()\n",
        "    self.l1 = torch.randn((emb_dim, emb_dim * 4), dtype=torch.float32)  # [ED, 4*ED]\n",
        "    self.relu = nn.ReLU()\n",
        "    self.l2 = torch.randn((emb_dim * 4, emb_dim), dtype=torch.float32)  # [4*ED, ED]\n",
        "\n",
        "  def forward(self, x: torch.Tensor):\n",
        "    # BS, N, ED = x.shape\n",
        "    y = x @ self.l1     # [BS, N, 4*ED]\n",
        "    y = self.relu(y)    # [BS, N, 4*ED]\n",
        "    y = y @ self.l2     # [BS, N, ED]\n",
        "    return y            # [BS, N, ED]\n",
        "\n",
        "# Test\n",
        "BS = 4\n",
        "N = 16\n",
        "emb_dim = 32\n",
        "\n",
        "input = torch.randn((BS, N, emb_dim), dtype=torch.float32)\n",
        "mlp = MLP(emb_dim=emb_dim)\n",
        "output = mlp(input)\n",
        "assert output.shape == input.shape"
      ],
      "metadata": {
        "id": "CDxlSXfOCOs9"
      },
      "execution_count": 11,
      "outputs": []
    },
    {
      "cell_type": "markdown",
      "source": [
        "# Gate"
      ],
      "metadata": {
        "id": "lusXajT6Wxm2"
      }
    },
    {
      "cell_type": "code",
      "source": [
        "class Gate(nn.Module):\n",
        "  def __init__(self, emb_dim: int, n_experts: int):\n",
        "    super().__init__()\n",
        "    # print(f\"{n_experts=}\")\n",
        "    self.l_gate = torch.randn((emb_dim, n_experts), dtype=torch.float32)  # [ED, NE]\n",
        "\n",
        "  def forward(self, x: torch.Tensor):\n",
        "    # BS, N, ED = x.shape\n",
        "    logit_gate = x @ self.l_gate            # [BS, N, NE]\n",
        "    # print(f\"{logit_gate.shape=}\")\n",
        "    prob_gate = logit_gate.softmax(dim=-1)  # [BS, N, NE]\n",
        "    return prob_gate                        # [BS, N, NE]\n",
        "\n",
        "# Test\n",
        "\n",
        "BS = 4\n",
        "N = 16\n",
        "emb_dim = 32\n",
        "n_experts = 4\n",
        "\n",
        "input = torch.randn((BS, N, emb_dim), dtype=torch.float32)\n",
        "gate = Gate(emb_dim=emb_dim, n_experts=n_experts)\n",
        "output = gate(input)\n",
        "assert output.shape == (BS, N, n_experts)\n",
        "assert torch.allclose(output.sum(dim=-1), torch.ones(BS, N))"
      ],
      "metadata": {
        "id": "iKjj95BWWyei"
      },
      "execution_count": 12,
      "outputs": []
    },
    {
      "cell_type": "markdown",
      "source": [
        "# SwitchMoE\n",
        "\n",
        "References\n",
        "- https://1a3orn.com/sub/essays-intro-to-moe.html\n",
        "- https://colab.research.google.com/github/1a3orn/very-simple-moe/blob/main/Switch_MoE.ipynb?authuser=1\n",
        "- https://colab.research.google.com/drive/1ZgNfgg91JYcWEGDavYpdV59tg-krd060?authuser=1#scrollTo=v_aNH9z78Gox\n",
        "\n"
      ],
      "metadata": {
        "id": "MdC1RVWkDj58"
      }
    },
    {
      "cell_type": "code",
      "source": [
        "class SwitchMoE(nn.Module):\n",
        "  def __init__(self, emb_dim: int, n_experts: int):\n",
        "    super().__init__()\n",
        "    self.emb_dim = emb_dim\n",
        "    self.n_experts = n_experts\n",
        "\n",
        "    self.experts = nn.ModuleList(modules=[MLP(emb_dim=emb_dim) for _ in range(n_experts)])\n",
        "    assert len(self.experts) == n_experts\n",
        "\n",
        "    self.gate = Gate(emb_dim=emb_dim, n_experts=n_experts)\n",
        "\n",
        "  def forward(self, x: torch.Tensor) -> torch.Tensor:\n",
        "    input = x                                                   # [BS, N, ED]\n",
        "    input = input.reshape(-1, self.emb_dim)                          # [BS*N, ED]\n",
        "    output = torch.zeros_like(input)                            # [BS*N, ED]\n",
        "\n",
        "    gate_prob = self.gate(input)                                     # [BS*N, NE]\n",
        "    assert gate_prob.shape == (BS * N, self.n_experts), f\"{gate_prob.shape=}\"\n",
        "    # print(f\"{gate_prob.shape=}\")\n",
        "\n",
        "    gate_top1_idx = gate_prob.argmax(dim=-1)                    # [BS*N]\n",
        "    gate_top1_onehot = nn.functional.one_hot(gate_top1_idx, num_classes=self.n_experts)  # [BS*N, NE]\n",
        "    assert gate_top1_onehot.shape == (BS * N, self.n_experts)\n",
        "\n",
        "    per_expert_tokens = []\n",
        "\n",
        "    for i, expert in enumerate(self.experts):\n",
        "      # The mask about whether the tokens are routed to the current expert\n",
        "      mask = gate_top1_onehot[:, i]     # [BS*N]\n",
        "      assert mask.shape == (BS*N,)\n",
        "      mask = mask==True                 # [BS*N]\n",
        "      assert mask.shape == (BS*N,)\n",
        "      # print(f\"{mask=}\")\n",
        "\n",
        "      # Keep only the tokens for the current expert\n",
        "      expert_input = input[mask]        # [N_EXPERT_INPUT, ED]\n",
        "      per_expert_tokens.append(len(expert_input))\n",
        "\n",
        "      # The expert output\n",
        "      expert_output = expert(expert_input)\n",
        "      assert expert_input.shape == expert_output.shape\n",
        "\n",
        "      # Merge the expert output to the final output.\n",
        "      output[mask] = expert_output\n",
        "\n",
        "      # Verify the expert output are merged to the final output correctly.\n",
        "      if i == 0:\n",
        "        assert not torch.allclose(output[mask], torch.zeros_like(expert_output))\n",
        "        mask_reverse = mask==False\n",
        "        assert output[mask_reverse].shape[0] + output[mask].shape[0] == BS * N\n",
        "        assert torch.allclose(output[mask_reverse], torch.zeros_like(output[mask_reverse]))\n",
        "\n",
        "    # print(f\"{per_expert_tokens=}\")\n",
        "    assert sum(per_expert_tokens) == BS * N\n",
        "\n",
        "    output = output.reshape(BS, N, -1)\n",
        "    assert output.shape == (BS, N, self.emb_dim)\n",
        "    # print(output[:11])\n",
        "\n",
        "    return output\n",
        "\n",
        "# Test\n",
        "BS = 4\n",
        "N = 16\n",
        "emb_dim = 32\n",
        "n_experts = 4\n",
        "\n",
        "torch.manual_seed(123)\n",
        "input = torch.randn((BS, N, emb_dim), dtype=torch.float32)\n",
        "moe = SwitchMoE(emb_dim=emb_dim, n_experts=n_experts)\n",
        "output = moe(input)\n",
        "assert output.shape == input.shape\n",
        "\n",
        "# Verify that when n_experts == 1, the result is the same as the MLP\n",
        "input = torch.randn((BS, N, emb_dim), dtype=torch.float32)\n",
        "\n",
        "torch.manual_seed(123)\n",
        "moe = SwitchMoE(emb_dim=emb_dim, n_experts=1)\n",
        "output = moe(input)\n",
        "\n",
        "torch.manual_seed(123)\n",
        "print(f\"{input.shape=}\")\n",
        "mlp = MLP(emb_dim=emb_dim)\n",
        "expected = mlp(input)\n",
        "\n",
        "assert torch.allclose(output, expected)"
      ],
      "metadata": {
        "colab": {
          "base_uri": "https://localhost:8080/"
        },
        "id": "_OzGyGPdbl3a",
        "outputId": "da772d67-25b1-4196-8425-2244cb24b6a6"
      },
      "execution_count": 13,
      "outputs": [
        {
          "output_type": "stream",
          "name": "stdout",
          "text": [
            "input.shape=torch.Size([4, 16, 32])\n"
          ]
        }
      ]
    },
    {
      "cell_type": "markdown",
      "source": [
        "# EP\n",
        "\n",
        "TODO: the current impl assume the # of replicas equals the # of experts, and each replica gets exact one expert"
      ],
      "metadata": {
        "id": "_fVKX3gFgWVo"
      }
    },
    {
      "cell_type": "code",
      "source": [
        "class DistSwitchMoE(nn.Module):\n",
        "  def __init__(self, emb_dim: int, n_experts: int, rank: int, world_size: int):\n",
        "    super().__init__()\n",
        "\n",
        "    # TODO: remove this limitation.\n",
        "    assert n_experts == world_size\n",
        "\n",
        "    self.emb_dim = emb_dim\n",
        "    self.n_experts = n_experts\n",
        "    self.rank = rank\n",
        "    self.world_size = world_size\n",
        "\n",
        "    self.expert = MLP(emb_dim=emb_dim)\n",
        "    if rank == 0:\n",
        "      self.gate = Gate(emb_dim=emb_dim, n_experts=n_experts)\n",
        "\n",
        "  def forward(self, x: torch.Tensor) -> torch.Tensor:\n",
        "    # 1. Prepare the per expert input.\n",
        "    if self.rank == 0:\n",
        "      input = x                                                   # [BS, N, ED]\n",
        "      input = input.reshape(-1, self.emb_dim)                          # [BS*N, ED]\n",
        "      output = torch.zeros_like(input)                            # [BS*N, ED]\n",
        "\n",
        "      gate_prob = self.gate(input)                                     # [BS*N, NE]\n",
        "      assert gate_prob.shape == (BS * N, self.n_experts), f\"{gate_prob.shape=}\"\n",
        "      # print(f\"{gate_prob.shape=}\")\n",
        "\n",
        "      gate_top1_idx = gate_prob.argmax(dim=-1)                    # [BS*N]\n",
        "      gate_top1_onehot = nn.functional.one_hot(gate_top1_idx, num_classes=self.n_experts)  # [BS*N, NE]\n",
        "      assert gate_top1_onehot.shape == (BS * N, self.n_experts)\n",
        "\n",
        "      per_expert_tokens = []\n",
        "      per_expert_input = []\n",
        "      ep_input_isend_reqs = []\n",
        "      masks = []\n",
        "\n",
        "      for i in range(self.world_size):\n",
        "        # The mask about whether the tokens are routed to the current expert\n",
        "        mask = gate_top1_onehot[:, i]     # [BS*N]\n",
        "        assert mask.shape == (BS*N,)\n",
        "        mask = mask==True                 # [BS*N]\n",
        "        assert mask.shape == (BS*N,)\n",
        "        # print(f\"{mask=}\")\n",
        "        masks.append(mask)\n",
        "\n",
        "        # Keep only the tokens for the current expert\n",
        "        expert_input = input[mask]        # [N_EXPERT_INPUT, ED]\n",
        "        per_expert_tokens.append(len(expert_input))\n",
        "        per_expert_input.append(expert_input)\n",
        "\n",
        "      assert sum(per_expert_tokens) == BS * N\n",
        "    # print(f\"{rank=}, finished step 1\")\n",
        "\n",
        "    # 2. Communicate the expert input size\n",
        "    if self.rank == 0:\n",
        "      ep_input_len_isend_reqs = []\n",
        "      for i in range(1, self.world_size):\n",
        "        t_send = torch.tensor(len(per_expert_input[i]), dtype=torch.int32)\n",
        "        req = dist.isend(t_send, dst=i)\n",
        "        ep_input_len_isend_reqs.append(req)\n",
        "\n",
        "      expert_input_len = len(per_expert_input[0])\n",
        "\n",
        "      for req in ep_input_len_isend_reqs:\n",
        "        req.wait()\n",
        "    else:\n",
        "      expert_input_len = torch.zeros(1, dtype=torch.int32)\n",
        "      dist.recv(expert_input_len, src=0)\n",
        "    # print(f\"{rank=}, finished step 2\")\n",
        "\n",
        "    # 3. Distribute the expert inputs\n",
        "    if self.rank == 0:\n",
        "      for i in range(1, self.world_size):\n",
        "        req = dist.isend(per_expert_input[i], dst=i)\n",
        "        ep_input_isend_reqs.append(req)\n",
        "      assert len(ep_input_isend_reqs) + 1 == self.world_size\n",
        "\n",
        "      expert_input = per_expert_input[0]\n",
        "\n",
        "      for req in ep_input_isend_reqs:\n",
        "        req.wait()\n",
        "    else:\n",
        "      expert_input = torch.zeros((expert_input_len.item(), self.emb_dim), dtype=torch.float32)\n",
        "      dist.recv(expert_input, src=0)\n",
        "    # print(f\"{rank=}, finished step 3\")\n",
        "\n",
        "    # 4. Computation\n",
        "    expert_output = self.expert(expert_input)\n",
        "    assert expert_input.shape == expert_output.shape\n",
        "    # print(f\"{rank=}, finished step 4\")\n",
        "\n",
        "    # 5. Collect the computation results\n",
        "    if self.rank == 0:\n",
        "      # Merge the local expert output to the final output.\n",
        "      output[masks[0]] = expert_output\n",
        "\n",
        "      # Verify the expert output are merged to the final output correctly.\n",
        "      mask = masks[0]\n",
        "      assert not torch.allclose(output[mask], torch.zeros_like(expert_output))\n",
        "      mask_reverse = mask==False\n",
        "      assert output[mask_reverse].shape[0] + output[mask].shape[0] == BS * N\n",
        "      assert torch.allclose(output[mask_reverse], torch.zeros_like(output[mask_reverse]))\n",
        "\n",
        "      # Merge the remote expert outputs to the final output.\n",
        "      for i in range(1, self.world_size):\n",
        "        remote_expert_output = torch.zeros_like(per_expert_input[i], dtype=torch.float32)\n",
        "        dist.recv(remote_expert_output, src=i)\n",
        "        output[masks[i]] = remote_expert_output\n",
        "\n",
        "      # Extra verification\n",
        "      output = output.reshape(BS, N, -1)\n",
        "      assert output.shape == (BS, N, self.emb_dim)\n",
        "      # print(f\"{rank=}, finished step 5\")\n",
        "\n",
        "      return output\n",
        "    else:\n",
        "      dist.send(expert_output, dst=0)\n",
        "      # print(f\"{rank=}, finished step 5\")\n",
        "      return None\n",
        "\n",
        "# Test\n",
        "BS = 4\n",
        "N = 16\n",
        "emb_dim = 32\n",
        "n_experts = 4\n",
        "world_size = n_experts\n",
        "\n",
        "\n",
        "os.environ['MASTER_ADDR'] = 'localhost'\n",
        "os.environ['MASTER_PORT'] = '12359' # You can choose a different port if 12355 is in use\n",
        "\n",
        "torch.manual_seed(123)\n",
        "input = torch.randn((BS, N, emb_dim), dtype=torch.float32)\n",
        "\n",
        "def init_process_ep(rank, world_size):\n",
        "  print(f\"Starting process with {rank=}, {world_size=}\")\n",
        "\n",
        "  # Use the gloo backend for CPU-based distributed processing\n",
        "  dist.init_process_group(backend=\"gloo\", world_size=world_size, rank=rank)\n",
        "\n",
        "  assert rank == dist.get_rank()\n",
        "  assert world_size == dist.get_world_size()\n",
        "  dist.barrier()\n",
        "\n",
        "  torch.manual_seed(123)\n",
        "  dist_moe = DistSwitchMoE(emb_dim=emb_dim, n_experts=n_experts, rank=rank, world_size=world_size)\n",
        "  output = dist_moe(input)\n",
        "\n",
        "  if rank == 0:\n",
        "    assert output.shape == input.shape\n",
        "    print(f\"{output.shape=}\")\n",
        "\n",
        "  # Verification\n",
        "  if rank == 0:\n",
        "    torch.manual_seed(123)\n",
        "    moe = SwitchMoE(emb_dim=emb_dim, n_experts=n_experts)\n",
        "    expected = moe(input)\n",
        "    torch.allclose(expected, output)\n",
        "\n",
        "processes = []\n",
        "for rank in range(world_size):\n",
        "  p = mp.Process(target=init_process_ep, args=(rank, world_size))\n",
        "  p.start()\n",
        "  processes.append(p)\n",
        "\n",
        "for p in processes:\n",
        "  p.join()"
      ],
      "metadata": {
        "colab": {
          "base_uri": "https://localhost:8080/"
        },
        "id": "0p1KPJsWgVcx",
        "outputId": "cefaf7ba-3ccc-4aa3-ad27-9f6dba97518c"
      },
      "execution_count": 23,
      "outputs": [
        {
          "output_type": "stream",
          "name": "stdout",
          "text": [
            "Starting process with rank=0, world_size=4\n",
            "Starting process with rank=1, world_size=4\n",
            "Starting process with rank=2, world_size=4Starting process with rank=3, world_size=4\n",
            "\n",
            "output.shape=torch.Size([4, 16, 32])\n"
          ]
        }
      ]
    },
    {
      "cell_type": "code",
      "source": [
        "# @title Test tensor idx\n",
        "\n",
        "x = torch.tensor([1,2,3])\n",
        "idx = [True, False, True]\n",
        "\n",
        "print(f\"{idx=}\")\n",
        "x[idx]"
      ],
      "metadata": {
        "colab": {
          "base_uri": "https://localhost:8080/"
        },
        "id": "q_jJ_uHFb-9Q",
        "outputId": "6aec7c56-4995-4091-dc21-cbea97f4becb"
      },
      "execution_count": 15,
      "outputs": [
        {
          "output_type": "stream",
          "name": "stdout",
          "text": [
            "idx=[True, False, True]\n"
          ]
        },
        {
          "output_type": "execute_result",
          "data": {
            "text/plain": [
              "tensor([1, 3])"
            ]
          },
          "metadata": {},
          "execution_count": 15
        }
      ]
    }
  ]
}
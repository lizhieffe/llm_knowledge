{
  "nbformat": 4,
  "nbformat_minor": 0,
  "metadata": {
    "colab": {
      "provenance": [],
      "authorship_tag": "ABX9TyOaekTv+b697SYKdBjJPvXf",
      "include_colab_link": true
    },
    "kernelspec": {
      "name": "python3",
      "display_name": "Python 3"
    },
    "language_info": {
      "name": "python"
    }
  },
  "cells": [
    {
      "cell_type": "markdown",
      "metadata": {
        "id": "view-in-github",
        "colab_type": "text"
      },
      "source": [
        "<a href=\"https://colab.research.google.com/github/lizhieffe/llm_knowledge/blob/main/examples/pytorch_dist/%5BDist%5D_PyTorch_EP_Practice_(MoE).ipynb\" target=\"_parent\"><img src=\"https://colab.research.google.com/assets/colab-badge.svg\" alt=\"Open In Colab\"/></a>"
      ]
    },
    {
      "cell_type": "code",
      "source": [
        "import torch\n",
        "import torch.nn as nn"
      ],
      "metadata": {
        "id": "KAJ3aZ8aCv0w"
      },
      "execution_count": 4,
      "outputs": []
    },
    {
      "cell_type": "markdown",
      "source": [
        "# MLP\n",
        "\n",
        "Each MLP instance is an expert in MoE."
      ],
      "metadata": {
        "id": "Ok4AG9FMBcNT"
      }
    },
    {
      "cell_type": "code",
      "source": [
        "class MLP(nn.Module):\n",
        "  def __init__(self, emb_dim: int):\n",
        "    super().__init__()\n",
        "    self.l1 = torch.randn((emb_dim, emb_dim * 4), dtype=torch.float32)  # [ED, 4*ED]\n",
        "    self.relu = nn.ReLU()\n",
        "    self.l2 = torch.randn((emb_dim * 4, emb_dim), dtype=torch.float32)  # [4*ED, ED]\n",
        "\n",
        "  def forward(self, x: torch.Tensor):\n",
        "    BS, N, ED = x.shape\n",
        "    y = x @ self.l1     # [BS, N, 4*ED]\n",
        "    y = self.relu(y)    # [BS, N, 4*ED]\n",
        "    y = y @ self.l2     # [BS, N, ED]\n",
        "    return y            # [BS, N, ED]\n",
        "\n",
        "# Test\n",
        "BS = 4\n",
        "N = 16\n",
        "emb_dim = 32\n",
        "\n",
        "input = torch.randn((BS, N, emb_dim), dtype=torch.float32)\n",
        "mlp = MLP(emb_dim=emb_dim)\n",
        "output = mlp(input)\n",
        "assert output.shape == input.shape"
      ],
      "metadata": {
        "id": "CDxlSXfOCOs9"
      },
      "execution_count": 35,
      "outputs": []
    },
    {
      "cell_type": "markdown",
      "source": [
        "# Gate"
      ],
      "metadata": {
        "id": "lusXajT6Wxm2"
      }
    },
    {
      "cell_type": "code",
      "source": [
        "class Gate(nn.Module):\n",
        "  def __init__(self, emb_dim: int, n_experts: int):\n",
        "    super().__init__()\n",
        "    self.l_gate = torch.randn((emb_dim, n_experts), dtype=torch.float32)  # [ED, NE]\n",
        "\n",
        "  def forward(self, x: torch.Tensor):\n",
        "    # BS, N, ED = x.shape\n",
        "    logit_gate = x @ self.l_gate            # [BS, N, NE]\n",
        "    prob_gate = logit_gate.softmax(dim=-1)  # [BS, N, NE]\n",
        "    return prob_gate                        # [BS, N, NE]\n",
        "\n",
        "# Test\n",
        "\n",
        "BS = 4\n",
        "N = 16\n",
        "emb_dim = 32\n",
        "n_experts = 4\n",
        "\n",
        "input = torch.randn((BS, N, emb_dim), dtype=torch.float32)\n",
        "gate = Gate(emb_dim=emb_dim, n_experts=n_experts)\n",
        "output = gate(input)\n",
        "assert output.shape == (BS, N, n_experts)\n",
        "assert torch.allclose(output.sum(dim=-1), torch.ones(BS, N))"
      ],
      "metadata": {
        "id": "iKjj95BWWyei"
      },
      "execution_count": 82,
      "outputs": []
    },
    {
      "cell_type": "markdown",
      "source": [
        "# SwitchMoE\n",
        "\n",
        "References\n",
        "- https://1a3orn.com/sub/essays-intro-to-moe.html\n",
        "- https://colab.research.google.com/github/1a3orn/very-simple-moe/blob/main/Switch_MoE.ipynb?authuser=1\n",
        "- https://colab.research.google.com/drive/1ZgNfgg91JYcWEGDavYpdV59tg-krd060?authuser=1#scrollTo=v_aNH9z78Gox\n",
        "\n"
      ],
      "metadata": {
        "id": "MdC1RVWkDj58"
      }
    },
    {
      "cell_type": "code",
      "source": [
        "BS = 4\n",
        "N = 16\n",
        "emb_dim = 32\n",
        "n_experts = 4\n",
        "\n",
        "torch.manual_seed(123)\n",
        "\n",
        "experts = nn.ModuleList(modules=[MLP(emb_dim=emb_dim) for _ in range(n_experts)])\n",
        "assert len(experts) == n_experts\n",
        "\n",
        "input = torch.randn((BS, N, emb_dim), dtype=torch.float32)  # [BS, N, ED]\n",
        "input = input.reshape(-1, emb_dim)                          # [BS*N, ED]\n",
        "output = torch.zeros_like(input)                             # [BS*N, ED]\n",
        "\n",
        "gate = Gate(emb_dim=emb_dim, n_experts=n_experts)\n",
        "gate_prob = gate(input)                                     # [BS*N, NE]\n",
        "assert gate_prob.shape == (BS * N, n_experts)\n",
        "# print(f\"{gate_prob[0]=}\")\n",
        "\n",
        "gate_top1_idx = gate_prob.argmax(dim=-1)                    # [BS*N]\n",
        "gate_top1_onehot = nn.functional.one_hot(gate_top1_idx, num_classes=n_experts)  # [BS*N, NE]\n",
        "assert gate_top1_onehot.shape == (BS * N, n_experts)\n",
        "\n",
        "per_expert_tokens = []\n",
        "\n",
        "for i, expert in enumerate(experts):\n",
        "  # The mask about whether the tokens are routed to the current expert\n",
        "  mask = gate_top1_onehot[:, i]     # [BS*N]\n",
        "  assert mask.shape == (BS*N,)\n",
        "  mask = mask==True                 # [BS*N]\n",
        "  assert mask.shape == (BS*N,)\n",
        "  # print(f\"{mask=}\")\n",
        "\n",
        "  # Keep only the tokens for the current expert\n",
        "  expert_input = input[mask]        # [N_EXPERT_INPUT, ED]\n",
        "  per_expert_tokens.append(len(expert_input))\n",
        "\n",
        "  # The expert output\n",
        "  expert_output = expert(expert_input)\n",
        "  assert expert_input.shape == expert_output.shape\n",
        "\n",
        "  # Merge the expert output to the final output.\n",
        "  output[mask] = expert_output\n",
        "\n",
        "  # Verify the expert output are merged to the final output correctly.\n",
        "  if i == 0:\n",
        "    assert not torch.allclose(output[mask], torch.zeros_like(expert_output))\n",
        "    mask_reverse = mask==False\n",
        "    assert output[mask_reverse].shape[0] + output[mask].shape[0] == BS * N\n",
        "    assert torch.allclose(output[mask_reverse], torch.zeros_like(output[mask_reverse]))\n",
        "\n",
        "# print(f\"{per_expert_tokens=}\")\n",
        "assert sum(per_expert_tokens) == BS * N\n",
        "\n",
        "output = output.reshape(BS, N, -1)\n",
        "assert output.shape == (BS, N, emb_dim)\n",
        "# print(output[:11])"
      ],
      "metadata": {
        "id": "VeNYyPiuYfcr"
      },
      "execution_count": 144,
      "outputs": []
    },
    {
      "cell_type": "code",
      "source": [
        "# @title Test tensor idx\n",
        "\n",
        "x = torch.tensor([1,2,3])\n",
        "idx = [True, False, True]\n",
        "\n",
        "print(f\"{idx=}\")\n",
        "x[idx]"
      ],
      "metadata": {
        "colab": {
          "base_uri": "https://localhost:8080/"
        },
        "id": "q_jJ_uHFb-9Q",
        "outputId": "46439cd3-0462-4c4c-f820-4c2b281d24f4"
      },
      "execution_count": 145,
      "outputs": [
        {
          "output_type": "stream",
          "name": "stdout",
          "text": [
            "idx=[True, False, True]\n"
          ]
        },
        {
          "output_type": "execute_result",
          "data": {
            "text/plain": [
              "tensor([1, 3])"
            ]
          },
          "metadata": {},
          "execution_count": 145
        }
      ]
    }
  ]
}
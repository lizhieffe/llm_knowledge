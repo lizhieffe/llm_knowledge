{
  "nbformat": 4,
  "nbformat_minor": 0,
  "metadata": {
    "colab": {
      "provenance": [],
      "authorship_tag": "ABX9TyOGKS9fObIRZhodGrtzvVsv",
      "include_colab_link": true
    },
    "kernelspec": {
      "name": "python3",
      "display_name": "Python 3"
    },
    "language_info": {
      "name": "python"
    }
  },
  "cells": [
    {
      "cell_type": "markdown",
      "metadata": {
        "id": "view-in-github",
        "colab_type": "text"
      },
      "source": [
        "<a href=\"https://colab.research.google.com/github/lizhieffe/llm_knowledge/blob/main/examples/pytorch_dist/%5BDist%5D_PP_Practice.ipynb\" target=\"_parent\"><img src=\"https://colab.research.google.com/assets/colab-badge.svg\" alt=\"Open In Colab\"/></a>"
      ]
    },
    {
      "cell_type": "markdown",
      "source": [
        "It seems the main challenge for PP is to implement a scheduler/orchestrator.\n",
        "\n",
        "It is hard to find simple code example focusing on the data communication etc. (e.g. it is relatively easy to find for TP)\n",
        "\n",
        "Some good reads:\n",
        "- https://siboehm.com/articles/22/pipeline-parallel-training & https://github.com/siboehm/ShallowSpeed\n",
        "- https://torchgpipe.readthedocs.io/en/stable/"
      ],
      "metadata": {
        "id": "iIvzjXzzJJYI"
      }
    }
  ]
}
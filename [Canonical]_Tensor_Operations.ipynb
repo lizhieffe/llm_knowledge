{
  "nbformat": 4,
  "nbformat_minor": 0,
  "metadata": {
    "colab": {
      "provenance": [],
      "authorship_tag": "ABX9TyNiS6Atb5jDsXU+OFqsEy99",
      "include_colab_link": true
    },
    "kernelspec": {
      "name": "python3",
      "display_name": "Python 3"
    },
    "language_info": {
      "name": "python"
    }
  },
  "cells": [
    {
      "cell_type": "markdown",
      "metadata": {
        "id": "view-in-github",
        "colab_type": "text"
      },
      "source": [
        "<a href=\"https://colab.research.google.com/github/lizhieffe/llm_knowledge/blob/main/%5BCanonical%5D_Tensor_Operations.ipynb\" target=\"_parent\"><img src=\"https://colab.research.google.com/assets/colab-badge.svg\" alt=\"Open In Colab\"/></a>"
      ]
    },
    {
      "cell_type": "markdown",
      "source": [
        "Must read\n",
        "- https://github.com/srush/tensor-puzzles"
      ],
      "metadata": {
        "id": "nYUPJYksm51o"
      }
    },
    {
      "cell_type": "code",
      "source": [
        "import torch"
      ],
      "metadata": {
        "id": "UPmLsEYMfr6y"
      },
      "execution_count": 1,
      "outputs": []
    },
    {
      "cell_type": "markdown",
      "source": [
        "# Indexing"
      ],
      "metadata": {
        "id": "KXzv4GY4fiFd"
      }
    },
    {
      "cell_type": "markdown",
      "source": [
        "## None Index\n",
        "\n",
        "- [:, None] add a new dimenion at the  of None"
      ],
      "metadata": {
        "id": "woYa-YTwf4QS"
      }
    },
    {
      "cell_type": "code",
      "source": [
        "a = torch.tensor([1,2,3])\n",
        "b = a[None, :]\n",
        "c = a[:, None]\n",
        "print(f\"{a.shape=}, {b.shape=}, {c.shape=}\")"
      ],
      "metadata": {
        "colab": {
          "base_uri": "https://localhost:8080/"
        },
        "id": "cY7JmCPmfm7X",
        "outputId": "761028c2-d15d-4963-91c1-b90b4436772b"
      },
      "execution_count": 5,
      "outputs": [
        {
          "output_type": "stream",
          "name": "stdout",
          "text": [
            "a.shape=torch.Size([3]), b.shape=torch.Size([1, 3]), c.shape=torch.Size([3, 1])\n"
          ]
        }
      ]
    },
    {
      "cell_type": "markdown",
      "source": [
        "## Zip"
      ],
      "metadata": {
        "id": "_WhSJi6rg1KK"
      }
    },
    {
      "cell_type": "code",
      "source": [
        "a = torch.tensor([[1,2,3], [4,5,6]])\n",
        "print(f\"{a=}\")\n",
        "print()\n",
        "\n",
        "# [0,1] & [0,1] are zipped to [0,0] and [1,1] two indices\n",
        "b = a[[0,1], [0,1]]\n",
        "print(f\"{b=}\")"
      ],
      "metadata": {
        "colab": {
          "base_uri": "https://localhost:8080/"
        },
        "id": "N_ipcZgAg5jw",
        "outputId": "62d87bbc-4b06-42ef-e095-909bf19ffe3a"
      },
      "execution_count": 13,
      "outputs": [
        {
          "output_type": "stream",
          "name": "stdout",
          "text": [
            "a=tensor([[1, 2, 3],\n",
            "        [4, 5, 6]])\n",
            "\n",
            "b=tensor([1, 5])\n"
          ]
        }
      ]
    },
    {
      "cell_type": "markdown",
      "source": [
        "## Pick multiple rows/columns"
      ],
      "metadata": {
        "id": "LkPfg28vi-3r"
      }
    },
    {
      "cell_type": "code",
      "source": [
        "a = torch.tensor([[1,2,3], [4,5,6]])\n",
        "print(f\"{a=}\")\n",
        "print()\n",
        "\n",
        "# [1, 0, 1] picks 1st, 0nd, 1st row separately\n",
        "b = a[[1, 0, 1]]\n",
        "print(f\"{b=}\")"
      ],
      "metadata": {
        "colab": {
          "base_uri": "https://localhost:8080/"
        },
        "id": "d8gsjokxhbqh",
        "outputId": "b9032058-5599-4ffc-de2e-8e50b5684d15"
      },
      "execution_count": 37,
      "outputs": [
        {
          "output_type": "stream",
          "name": "stdout",
          "text": [
            "a=tensor([[1, 2, 3],\n",
            "        [4, 5, 6]])\n",
            "\n",
            "b=tensor([[4, 5, 6],\n",
            "        [1, 2, 3],\n",
            "        [4, 5, 6]])\n"
          ]
        }
      ]
    },
    {
      "cell_type": "markdown",
      "source": [
        "# Where"
      ],
      "metadata": {
        "id": "zCwBRotYioUE"
      }
    },
    {
      "cell_type": "code",
      "source": [
        "# The definition of where\n",
        "\n",
        "def where(q, a, b):\n",
        "  \"Use this function to replace an if-statement.\"\n",
        "  return (q * a) + (~q) * b"
      ],
      "metadata": {
        "id": "vpqmwMybipOe"
      },
      "execution_count": null,
      "outputs": []
    }
  ]
}
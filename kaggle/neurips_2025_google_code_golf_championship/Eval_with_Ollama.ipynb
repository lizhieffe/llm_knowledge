{
  "nbformat": 4,
  "nbformat_minor": 0,
  "metadata": {
    "colab": {
      "provenance": [],
      "collapsed_sections": [
        "Vzw0TDwKCEvo"
      ],
      "machine_shape": "hm",
      "gpuType": "L4",
      "authorship_tag": "ABX9TyO/gc9nniGNXDS9Qupm2vAB",
      "include_colab_link": true
    },
    "kernelspec": {
      "name": "python3",
      "display_name": "Python 3"
    },
    "language_info": {
      "name": "python"
    },
    "accelerator": "GPU"
  },
  "cells": [
    {
      "cell_type": "markdown",
      "metadata": {
        "id": "view-in-github",
        "colab_type": "text"
      },
      "source": [
        "<a href=\"https://colab.research.google.com/github/lizhieffe/llm_knowledge/blob/main/kaggle/neurips_2025_google_code_golf_championship/Eval_with_Ollama.ipynb\" target=\"_parent\"><img src=\"https://colab.research.google.com/assets/colab-badge.svg\" alt=\"Open In Colab\"/></a>"
      ]
    },
    {
      "cell_type": "markdown",
      "source": [
        "For the championship: https://www.kaggle.com/competitions/google-code-golf-2025/overview"
      ],
      "metadata": {
        "id": "4F8ffCX6hluG"
      }
    },
    {
      "cell_type": "markdown",
      "source": [
        "# Public Interface"
      ],
      "metadata": {
        "id": "Vzw0TDwKCEvo"
      }
    },
    {
      "cell_type": "code",
      "source": [
        "import dataclasses\n",
        "import numpy as np\n",
        "\n",
        "\n",
        "@dataclasses.dataclass\n",
        "class DataPoint:\n",
        "  # A list of (input, output) tuples\n",
        "  train: list[tuple[np.ndarray, np.ndarray]]\n",
        "  train_raw: list[dict]\n",
        "\n",
        "  # (input, output) tuple\n",
        "  test: list[tuple[np.ndarray, np.ndarray]]\n",
        "  test_raw: list[dict]"
      ],
      "metadata": {
        "id": "i6yuz_LGCGIQ"
      },
      "execution_count": 1,
      "outputs": []
    },
    {
      "cell_type": "markdown",
      "source": [
        "# Download data and load"
      ],
      "metadata": {
        "id": "a97-P-sWCLhp"
      }
    },
    {
      "cell_type": "code",
      "source": [
        "# @title Setup Kaggle credential\n",
        "\n",
        "from google.colab import files\n",
        "\n",
        "uploaded = files.upload()\n",
        "\n",
        "for fn in uploaded.keys():\n",
        "  print('User uploaded file \"{name}\" with length {length} bytes'.format(\n",
        "      name=fn, length=len(uploaded[fn])))\n",
        "\n",
        "# Then move kaggle.json into the folder where the API expects to find it.\n",
        "!mkdir -p ~/.kaggle/ && mv kaggle.json ~/.kaggle/ && chmod 600 ~/.kaggle/kaggle.json"
      ],
      "metadata": {
        "colab": {
          "base_uri": "https://localhost:8080/",
          "height": 91
        },
        "cellView": "form",
        "id": "2-JIbMl0ISxm",
        "outputId": "bb27d204-7f9d-4d23-bdb3-57a5b573bad8"
      },
      "execution_count": 2,
      "outputs": [
        {
          "output_type": "display_data",
          "data": {
            "text/plain": [
              "<IPython.core.display.HTML object>"
            ],
            "text/html": [
              "\n",
              "     <input type=\"file\" id=\"files-549ba6a3-6a84-4532-a199-8403bf7135b6\" name=\"files[]\" multiple disabled\n",
              "        style=\"border:none\" />\n",
              "     <output id=\"result-549ba6a3-6a84-4532-a199-8403bf7135b6\">\n",
              "      Upload widget is only available when the cell has been executed in the\n",
              "      current browser session. Please rerun this cell to enable.\n",
              "      </output>\n",
              "      <script>// Copyright 2017 Google LLC\n",
              "//\n",
              "// Licensed under the Apache License, Version 2.0 (the \"License\");\n",
              "// you may not use this file except in compliance with the License.\n",
              "// You may obtain a copy of the License at\n",
              "//\n",
              "//      http://www.apache.org/licenses/LICENSE-2.0\n",
              "//\n",
              "// Unless required by applicable law or agreed to in writing, software\n",
              "// distributed under the License is distributed on an \"AS IS\" BASIS,\n",
              "// WITHOUT WARRANTIES OR CONDITIONS OF ANY KIND, either express or implied.\n",
              "// See the License for the specific language governing permissions and\n",
              "// limitations under the License.\n",
              "\n",
              "/**\n",
              " * @fileoverview Helpers for google.colab Python module.\n",
              " */\n",
              "(function(scope) {\n",
              "function span(text, styleAttributes = {}) {\n",
              "  const element = document.createElement('span');\n",
              "  element.textContent = text;\n",
              "  for (const key of Object.keys(styleAttributes)) {\n",
              "    element.style[key] = styleAttributes[key];\n",
              "  }\n",
              "  return element;\n",
              "}\n",
              "\n",
              "// Max number of bytes which will be uploaded at a time.\n",
              "const MAX_PAYLOAD_SIZE = 100 * 1024;\n",
              "\n",
              "function _uploadFiles(inputId, outputId) {\n",
              "  const steps = uploadFilesStep(inputId, outputId);\n",
              "  const outputElement = document.getElementById(outputId);\n",
              "  // Cache steps on the outputElement to make it available for the next call\n",
              "  // to uploadFilesContinue from Python.\n",
              "  outputElement.steps = steps;\n",
              "\n",
              "  return _uploadFilesContinue(outputId);\n",
              "}\n",
              "\n",
              "// This is roughly an async generator (not supported in the browser yet),\n",
              "// where there are multiple asynchronous steps and the Python side is going\n",
              "// to poll for completion of each step.\n",
              "// This uses a Promise to block the python side on completion of each step,\n",
              "// then passes the result of the previous step as the input to the next step.\n",
              "function _uploadFilesContinue(outputId) {\n",
              "  const outputElement = document.getElementById(outputId);\n",
              "  const steps = outputElement.steps;\n",
              "\n",
              "  const next = steps.next(outputElement.lastPromiseValue);\n",
              "  return Promise.resolve(next.value.promise).then((value) => {\n",
              "    // Cache the last promise value to make it available to the next\n",
              "    // step of the generator.\n",
              "    outputElement.lastPromiseValue = value;\n",
              "    return next.value.response;\n",
              "  });\n",
              "}\n",
              "\n",
              "/**\n",
              " * Generator function which is called between each async step of the upload\n",
              " * process.\n",
              " * @param {string} inputId Element ID of the input file picker element.\n",
              " * @param {string} outputId Element ID of the output display.\n",
              " * @return {!Iterable<!Object>} Iterable of next steps.\n",
              " */\n",
              "function* uploadFilesStep(inputId, outputId) {\n",
              "  const inputElement = document.getElementById(inputId);\n",
              "  inputElement.disabled = false;\n",
              "\n",
              "  const outputElement = document.getElementById(outputId);\n",
              "  outputElement.innerHTML = '';\n",
              "\n",
              "  const pickedPromise = new Promise((resolve) => {\n",
              "    inputElement.addEventListener('change', (e) => {\n",
              "      resolve(e.target.files);\n",
              "    });\n",
              "  });\n",
              "\n",
              "  const cancel = document.createElement('button');\n",
              "  inputElement.parentElement.appendChild(cancel);\n",
              "  cancel.textContent = 'Cancel upload';\n",
              "  const cancelPromise = new Promise((resolve) => {\n",
              "    cancel.onclick = () => {\n",
              "      resolve(null);\n",
              "    };\n",
              "  });\n",
              "\n",
              "  // Wait for the user to pick the files.\n",
              "  const files = yield {\n",
              "    promise: Promise.race([pickedPromise, cancelPromise]),\n",
              "    response: {\n",
              "      action: 'starting',\n",
              "    }\n",
              "  };\n",
              "\n",
              "  cancel.remove();\n",
              "\n",
              "  // Disable the input element since further picks are not allowed.\n",
              "  inputElement.disabled = true;\n",
              "\n",
              "  if (!files) {\n",
              "    return {\n",
              "      response: {\n",
              "        action: 'complete',\n",
              "      }\n",
              "    };\n",
              "  }\n",
              "\n",
              "  for (const file of files) {\n",
              "    const li = document.createElement('li');\n",
              "    li.append(span(file.name, {fontWeight: 'bold'}));\n",
              "    li.append(span(\n",
              "        `(${file.type || 'n/a'}) - ${file.size} bytes, ` +\n",
              "        `last modified: ${\n",
              "            file.lastModifiedDate ? file.lastModifiedDate.toLocaleDateString() :\n",
              "                                    'n/a'} - `));\n",
              "    const percent = span('0% done');\n",
              "    li.appendChild(percent);\n",
              "\n",
              "    outputElement.appendChild(li);\n",
              "\n",
              "    const fileDataPromise = new Promise((resolve) => {\n",
              "      const reader = new FileReader();\n",
              "      reader.onload = (e) => {\n",
              "        resolve(e.target.result);\n",
              "      };\n",
              "      reader.readAsArrayBuffer(file);\n",
              "    });\n",
              "    // Wait for the data to be ready.\n",
              "    let fileData = yield {\n",
              "      promise: fileDataPromise,\n",
              "      response: {\n",
              "        action: 'continue',\n",
              "      }\n",
              "    };\n",
              "\n",
              "    // Use a chunked sending to avoid message size limits. See b/62115660.\n",
              "    let position = 0;\n",
              "    do {\n",
              "      const length = Math.min(fileData.byteLength - position, MAX_PAYLOAD_SIZE);\n",
              "      const chunk = new Uint8Array(fileData, position, length);\n",
              "      position += length;\n",
              "\n",
              "      const base64 = btoa(String.fromCharCode.apply(null, chunk));\n",
              "      yield {\n",
              "        response: {\n",
              "          action: 'append',\n",
              "          file: file.name,\n",
              "          data: base64,\n",
              "        },\n",
              "      };\n",
              "\n",
              "      let percentDone = fileData.byteLength === 0 ?\n",
              "          100 :\n",
              "          Math.round((position / fileData.byteLength) * 100);\n",
              "      percent.textContent = `${percentDone}% done`;\n",
              "\n",
              "    } while (position < fileData.byteLength);\n",
              "  }\n",
              "\n",
              "  // All done.\n",
              "  yield {\n",
              "    response: {\n",
              "      action: 'complete',\n",
              "    }\n",
              "  };\n",
              "}\n",
              "\n",
              "scope.google = scope.google || {};\n",
              "scope.google.colab = scope.google.colab || {};\n",
              "scope.google.colab._files = {\n",
              "  _uploadFiles,\n",
              "  _uploadFilesContinue,\n",
              "};\n",
              "})(self);\n",
              "</script> "
            ]
          },
          "metadata": {}
        },
        {
          "output_type": "stream",
          "name": "stdout",
          "text": [
            "Saving kaggle.json to kaggle.json\n",
            "User uploaded file \"kaggle.json\" with length 65 bytes\n"
          ]
        }
      ]
    },
    {
      "cell_type": "code",
      "source": [
        "# @title Download data\n",
        "\n",
        "%%capture\n",
        "\n",
        "\n",
        "import os\n",
        "\n",
        "\n",
        "base_path = \"/content/google-code-golf-2025\"\n",
        "\n",
        "if not os.path.isdir(base_path):\n",
        "  !pip install --user kaggle\n",
        "  !kaggle competitions download -c google-code-golf-2025\n",
        "  !unzip /content/google-code-golf-2025.zip -d /content/google-code-golf-2025/"
      ],
      "metadata": {
        "id": "ByO3f-wLDLGK"
      },
      "execution_count": 3,
      "outputs": []
    },
    {
      "cell_type": "code",
      "source": [
        "# @title Parse the data\n",
        "\n",
        "import json\n",
        "import os\n",
        "\n",
        "import numpy as np\n",
        "\n",
        "print(f\"Attempting to list files in: {base_path}\")\n",
        "\n",
        "# This returns a list of filename strings. It doesn't include the path.\n",
        "files = os.listdir(base_path)\n",
        "json_file_paths = [\n",
        "    os.path.join(base_path, f) for f in files if f.endswith(\".json\")\n",
        "]\n",
        "print(f\"Found {len(json_file_paths)} json files\")\n",
        "\n",
        "def extract_data_point(json_filepath: str) -> DataPoint:\n",
        "  \"\"\"Extract DataPoint from a json file.\n",
        "\n",
        "  Args:\n",
        "    json_filepath: The path to the json file.\n",
        "\n",
        "  Returns:\n",
        "    A DataPoint object.Ï\n",
        "  \"\"\"\n",
        "  with open(json_filepath, \"rt\") as my_file:\n",
        "    content = my_file.read()\n",
        "    # print(content)\n",
        "    json_dict = json.loads(content)\n",
        "    # print(type(json_dict))\n",
        "\n",
        "    train_val = json_dict[\"train\"]\n",
        "    all_train = [\n",
        "        (np.array(it[\"input\"]), np.array(it[\"output\"])) for it in train_val\n",
        "    ]\n",
        "    train_raw = train_val\n",
        "\n",
        "    test_val = json_dict[\"train\"]\n",
        "    all_test = [\n",
        "        (np.array(it[\"input\"]), np.array(it[\"output\"])) for it in test_val\n",
        "    ]\n",
        "    test_raw = test_val\n",
        "\n",
        "    return DataPoint(\n",
        "        train=all_train, train_raw=train_raw, test=all_test, test_raw=test_raw\n",
        "    )\n",
        "\n",
        "\n",
        "import tqdm\n",
        "import concurrent.futures\n",
        "\n",
        "with concurrent.futures.ThreadPoolExecutor(\n",
        "    max_workers=min(512, len(json_file_paths)), thread_name_prefix=\"Worker\"\n",
        ") as executor:\n",
        "  # The map() function is the key.\n",
        "  # It applies 'worker_task' to each item in 'items_to_process'.\n",
        "  # It automatically collects the results and returns them as an iterator.\n",
        "  data_points = list(\n",
        "      tqdm.tqdm(\n",
        "          executor.map(extract_data_point, json_file_paths),\n",
        "          total=len(json_file_paths),\n",
        "      )\n",
        "  )\n",
        "  print(f\"{len(data_points)=}\")"
      ],
      "metadata": {
        "colab": {
          "base_uri": "https://localhost:8080/"
        },
        "cellView": "form",
        "id": "6HHWAuqfCNa4",
        "outputId": "a7273aa8-6d93-4a51-d2f6-7dd4a22b41c6"
      },
      "execution_count": 4,
      "outputs": [
        {
          "output_type": "stream",
          "name": "stdout",
          "text": [
            "Attempting to list files in: /content/google-code-golf-2025\n",
            "Found 400 json files\n"
          ]
        },
        {
          "output_type": "stream",
          "name": "stderr",
          "text": [
            "100%|██████████| 400/400 [00:00<00:00, 309943.03it/s]"
          ]
        },
        {
          "output_type": "stream",
          "name": "stdout",
          "text": [
            "len(data_points)=400\n"
          ]
        },
        {
          "output_type": "stream",
          "name": "stderr",
          "text": [
            "\n"
          ]
        }
      ]
    },
    {
      "cell_type": "markdown",
      "source": [
        "# Generation libs"
      ],
      "metadata": {
        "id": "zS8L68qeLgcQ"
      }
    },
    {
      "cell_type": "markdown",
      "source": [
        "# Load model"
      ],
      "metadata": {
        "id": "XFDKm0oyKvX3"
      }
    },
    {
      "cell_type": "code",
      "source": [
        "# @title Visualization libs\n",
        "\n",
        "import matplotlib.pyplot as plt\n",
        "import seaborn as sns # Optional, for slightly nicer colorbars and default styles\n",
        "\n",
        "def visualize_np_array(np_array):\n",
        "    \"\"\"\n",
        "    Visualizes a 2D NumPy array (rectangular matrix of integers between 0 and 9)\n",
        "    as a heatmap.\n",
        "\n",
        "    Args:\n",
        "        np_array (np.ndarray): The NumPy array to visualize.\n",
        "                               Expected shape: (rows, cols)\n",
        "                               Expected values: integers between 0 and 9.\n",
        "    \"\"\"\n",
        "    if not isinstance(np_array, np.ndarray):\n",
        "        np_array = np.array(np_array)\n",
        "\n",
        "    if np_array.ndim != 2:\n",
        "        print(f\"Error: Input array must be 2-dimensional, but has {np_array.ndim} dimensions.\")\n",
        "        return\n",
        "\n",
        "    rows, cols = np_array.shape\n",
        "\n",
        "    if not (1 <= rows <= 30 and 1 <= cols <= 30):\n",
        "        print(f\"Error: Array dimensions ({rows}x{cols}) are outside the allowed range (1x1 to 30x30).\")\n",
        "        return\n",
        "\n",
        "    # Check if all values are integers between 0 and 9\n",
        "    if not (np.all(np_array >= 0) and np.all(np_array <= 9) and np.all(np_array == np_array.astype(int))):\n",
        "        print(\"Warning: Array contains values outside the 0-9 integer range. Visualization might be misleading.\")\n",
        "        # Attempt to cast to int to prevent issues with imshow expecting numeric data\n",
        "        np_array = np_array.astype(int)\n",
        "\n",
        "    # Set up the plot\n",
        "    image_zoom_factor = 1.0 if rows <= 10 and cols <= 10 else 0.5\n",
        "    plt.figure(figsize=(cols * image_zoom_factor, rows * image_zoom_factor)) # Adjust figure size dynamically for better aspect ratio\n",
        "\n",
        "    # Use seaborn's heatmap for a more aesthetically pleasing visualization\n",
        "    # 'cmap' defines the color map. 'viridis' is a good default for sequential data.\n",
        "    # 'RdYlGn' (Red-Yellow-Green) or 'Greens' are also good options.\n",
        "    # 'annot=True' will display the value in each cell (useful for small grids)\n",
        "    # 'fmt=\"d\"' ensures the annotation is an integer\n",
        "    # 'cbar=True' shows the color bar\n",
        "    # 'linewidths' and 'linecolor' add borders between cells\n",
        "    sns.heatmap(np_array, annot=True, fmt=\"d\", cmap=\"viridis\", cbar=True,\n",
        "                linewidths=0.5, linecolor='black', vmin=0, vmax=9)\n",
        "\n",
        "    plt.title(f'Visualization of {rows}x{cols} NumPy Array')\n",
        "    plt.xlabel('Column Index')\n",
        "    plt.ylabel('Row Index')\n",
        "    plt.xticks(np.arange(cols) + 0.5, labels=np.arange(cols)) # Center ticks\n",
        "    plt.yticks(np.arange(rows) + 0.5, labels=np.arange(rows)) # Center ticks\n",
        "    plt.gca().invert_yaxis() # Invert y-axis to have (0,0) at top-left like typical arrays\n",
        "\n",
        "    plt.show()\n",
        "\n",
        "array = np.array([[0, 7, 7], [7, 7, 7], [0, 7, 7]])\n",
        "visualize_np_array(array)"
      ],
      "metadata": {
        "cellView": "form",
        "colab": {
          "base_uri": "https://localhost:8080/",
          "height": 333
        },
        "id": "1zHO__T-B7Bb",
        "outputId": "efa51e30-f688-4220-b291-a1cb9d631d0b"
      },
      "execution_count": 5,
      "outputs": [
        {
          "output_type": "display_data",
          "data": {
            "text/plain": [
              "<Figure size 300x300 with 2 Axes>"
            ],
            "image/png": "[encoded data removed]"
          },
          "metadata": {}
        }
      ]
    },
    {
      "cell_type": "code",
      "source": [
        "# @title Prompt Libs\n",
        "SYSTEM_TURN = \"\"\"You are a principle software engineer.\n",
        "\n",
        "\"\"\"\n",
        "\n",
        "\n",
        "USER_TURN_PREFIX = \"\"\"You should implement a Python function to do a transformation, where the transformation is implicitly described by multiple pair of <input, output> image grids that are given. For example, the example pairs for one task might demonstrate the concept of rotation, whereas another might involve cropping and/or magnification. Your code for a given task should not only achieve the desired result across all exemplars, but also do so using the fewest possible number of characters.\n",
        "\n",
        "A \"grid\" is a rectangular matrix (list of lists) of integers between 0 and 9 (inclusive). The smallest possible grid size is 1x1 and the largest is 30x30.\n",
        "\n",
        "The function should have name \"fn\", one input arg named \"input\".\n",
        "\n",
        "Do NOT use any external library!\n",
        "\n",
        "Examplars:\n",
        "\n",
        "\"\"\"\n",
        "\n",
        "\n",
        "def build_prompt(data_point: DataPoint) -> list[dict[str, str]]:\n",
        "  user_turn = USER_TURN_PREFIX\n",
        "  user_turn += str(data_point.train_raw)\n",
        "\n",
        "  messages = [\n",
        "      {\"role\": \"system\", \"content\": SYSTEM_TURN},\n",
        "      {\"role\": \"user\", \"content\": user_turn},\n",
        "  ]\n",
        "  return messages\n",
        "\n",
        "\n",
        "# Test\n",
        "conversation = build_prompt(data_points[0])\n",
        "print(f\"Prompt = {conversation}\")"
      ],
      "metadata": {
        "colab": {
          "base_uri": "https://localhost:8080/"
        },
        "id": "wRqlDZxmLhqO",
        "outputId": "9e3df7f0-8aa6-4f09-d4a9-a8759003bfec"
      },
      "execution_count": 6,
      "outputs": [
        {
          "output_type": "stream",
          "name": "stdout",
          "text": [
            "Prompt = [{'role': 'system', 'content': 'You are a principle software engineer.\\n\\n'}, {'role': 'user', 'content': 'You should implement a Python function to do a transformation, where the transformation is implicitly described by multiple pair of <input, output> image grids that are given. For example, the example pairs for one task might demonstrate the concept of rotation, whereas another might involve cropping and/or magnification. Your code for a given task should not only achieve the desired result across all exemplars, but also do so using the fewest possible number of characters.\\n\\nA \"grid\" is a rectangular matrix (list of lists) of integers between 0 and 9 (inclusive). The smallest possible grid size is 1x1 and the largest is 30x30.\\n\\nThe function should have name \"fn\", one input arg named \"input\".\\n\\nDo NOT use any external library!\\n\\nExamplars:\\n\\n[{\\'input\\': [[0, 0, 0, 0, 0, 0, 0, 0], [0, 2, 2, 2, 2, 2, 0, 0], [0, 2, 0, 0, 0, 2, 0, 0], [0, 2, 0, 2, 0, 2, 0, 0], [0, 2, 0, 0, 0, 2, 0, 0], [0, 2, 2, 2, 2, 2, 0, 0], [0, 0, 0, 0, 0, 0, 0, 0], [0, 0, 0, 0, 0, 0, 0, 0]], \\'output\\': [[0, 0, 0, 0, 0, 0, 0, 0], [0, 2, 2, 2, 2, 2, 0, 0], [0, 2, 1, 1, 1, 2, 0, 0], [0, 2, 1, 2, 1, 2, 0, 0], [0, 2, 1, 1, 1, 2, 0, 0], [0, 2, 2, 2, 2, 2, 0, 0], [0, 0, 0, 0, 0, 0, 0, 0], [0, 0, 0, 0, 0, 0, 0, 0]]}, {\\'input\\': [[0, 0, 0, 2, 0, 0, 0, 0], [0, 2, 0, 2, 0, 0, 0, 0], [0, 0, 0, 2, 0, 0, 0, 0], [2, 2, 2, 2, 2, 2, 2, 0], [0, 0, 2, 0, 0, 0, 2, 0], [0, 0, 2, 0, 2, 0, 2, 0], [0, 0, 2, 0, 0, 0, 2, 0], [0, 0, 2, 2, 2, 2, 2, 0]], \\'output\\': [[0, 0, 0, 2, 0, 0, 0, 0], [0, 2, 0, 2, 0, 0, 0, 0], [0, 0, 0, 2, 0, 0, 0, 0], [2, 2, 2, 2, 2, 2, 2, 0], [0, 0, 2, 1, 1, 1, 2, 0], [0, 0, 2, 1, 2, 1, 2, 0], [0, 0, 2, 1, 1, 1, 2, 0], [0, 0, 2, 2, 2, 2, 2, 0]]}, {\\'input\\': [[0, 0, 0, 2, 2, 2, 2, 2, 0, 0, 0, 0], [0, 0, 0, 2, 0, 0, 0, 2, 0, 0, 0, 0], [0, 0, 0, 2, 0, 2, 0, 2, 2, 2, 2, 0], [0, 0, 0, 2, 0, 0, 0, 2, 0, 0, 2, 0], [0, 0, 0, 2, 2, 2, 2, 2, 0, 0, 2, 0], [0, 0, 0, 2, 0, 0, 0, 2, 0, 0, 2, 0], [0, 0, 0, 2, 0, 2, 0, 2, 2, 2, 2, 0], [0, 0, 0, 2, 0, 0, 0, 2, 0, 0, 0, 0], [0, 0, 0, 2, 2, 2, 2, 2, 0, 0, 0, 0], [0, 0, 0, 0, 0, 0, 0, 2, 2, 2, 2, 2], [0, 0, 0, 0, 0, 0, 0, 2, 0, 0, 0, 2], [0, 0, 0, 0, 0, 0, 0, 2, 0, 2, 0, 2]], \\'output\\': [[0, 0, 0, 2, 2, 2, 2, 2, 0, 0, 0, 0], [0, 0, 0, 2, 1, 1, 1, 2, 0, 0, 0, 0], [0, 0, 0, 2, 1, 2, 1, 2, 2, 2, 2, 0], [0, 0, 0, 2, 1, 1, 1, 2, 1, 1, 2, 0], [0, 0, 0, 2, 2, 2, 2, 2, 1, 1, 2, 0], [0, 0, 0, 2, 1, 1, 1, 2, 1, 1, 2, 0], [0, 0, 0, 2, 1, 2, 1, 2, 2, 2, 2, 0], [0, 0, 0, 2, 1, 1, 1, 2, 0, 0, 0, 0], [0, 0, 0, 2, 2, 2, 2, 2, 0, 0, 0, 0], [0, 0, 0, 0, 0, 0, 0, 2, 2, 2, 2, 2], [0, 0, 0, 0, 0, 0, 0, 2, 0, 0, 0, 2], [0, 0, 0, 0, 0, 0, 0, 2, 0, 2, 0, 2]]}]'}]\n"
          ]
        }
      ]
    },
    {
      "cell_type": "code",
      "source": [
        "# # @title Visualize GPU usage\n",
        "# !pip install wandb\n",
        "# import wandb\n",
        "# wandb.init()"
      ],
      "metadata": {
        "id": "aq0zzj5oTf6I"
      },
      "execution_count": 7,
      "outputs": []
    },
    {
      "cell_type": "code",
      "source": [
        "# @title Download Ollama\n",
        "%%capture\n",
        "\n",
        "! sudo apt-get install -y pciutils\n",
        "! curl https://ollama.ai/install.sh | sh"
      ],
      "metadata": {
        "id": "madpo8iyXqfT"
      },
      "execution_count": 8,
      "outputs": []
    },
    {
      "cell_type": "code",
      "source": [
        "# @title Ollama Libs\n",
        "\n",
        "import os\n",
        "import threading\n",
        "import subprocess\n",
        "import requests\n",
        "import json\n",
        "\n",
        "def server_ollama():\n",
        "    os.environ['OLLAMA_HOST'] = '0.0.0.0:11434'\n",
        "    os.environ['OLLAMA_ORIGINS'] = '*'\n",
        "    subprocess.Popen([\"ollama\", \"serve\"])\n",
        "\n",
        "def ensure_ollama_running():\n",
        "  res = !ollama ps\n",
        "  if res[0].startswith(\"Error\"):\n",
        "    print(\"Restarting Ollama\")\n",
        "    ollama_thread = threading.Thread(target=server_ollama)\n",
        "    ollama_thread.start()\n",
        "\n",
        "def download_ollama_model_if_necessary(model_name: str):\n",
        "  ensure_ollama_running()\n",
        "\n",
        "  list_ret = !ollama list\n",
        "  downloaded = False\n",
        "  for it in list_ret:\n",
        "    if it.startswith(model_name):\n",
        "      downloaded = True\n",
        "      break\n",
        "\n",
        "  if not downloaded:\n",
        "    !ollama pull $model_name\n",
        "\n",
        "model_name = \"qwen3:32b\"\n",
        "model_name = \"qwen3-coder:30b\"\n",
        "model_name = \"qwen3:0.6b\"\n",
        "download_ollama_model_if_necessary(model_name)\n",
        "\n",
        "ensure_ollama_running()"
      ],
      "metadata": {
        "colab": {
          "base_uri": "https://localhost:8080/"
        },
        "id": "-xoNwzi90wS5",
        "outputId": "fc2d759d-776c-4585-a3fd-4cbb103e167c"
      },
      "execution_count": 9,
      "outputs": [
        {
          "output_type": "stream",
          "name": "stdout",
          "text": [
            "Restarting Ollama\n",
            "\u001b[?2026h\u001b[?25l\u001b[1G\u001b[?25h\u001b[?2026l\u001b[?2026h\u001b[?25l\u001b[1G\u001b[?25h\u001b[?2026l\u001b[?2026h\u001b[?25l\u001b[1G\u001b[?25h\u001b[?2026l\u001b[?2026h\u001b[?25l\u001b[1G\u001b[?25h\u001b[?2026l\u001b[?2026h\u001b[?25l\u001b[1G\u001b[?25h\u001b[?2026l\u001b[?2026h\u001b[?25l\u001b[1G\u001b[?25h\u001b[?2026l\u001b[?2026h\u001b[?25l\u001b[1G\u001b[?25h\u001b[?2026l\u001b[?2026h\u001b[?25l\u001b[1G\u001b[?25h\u001b[?2026l\u001b[?2026h\u001b[?25l\u001b[1G\u001b[?25h\u001b[?2026l\u001b[?2026h\u001b[?25l\u001b[1G\u001b[?25h\u001b[?2026l\u001b[?2026h\u001b[?25l\u001b[1G\u001b[?25h\u001b[?2026l\u001b[?2026h\u001b[?25l\u001b[1G\u001b[?25h\u001b[?2026l\u001b[?2026h\u001b[?25l\u001b[1G\u001b[?25h\u001b[?2026l\u001b[?2026h\u001b[?25l\u001b[1G\u001b[?25h\u001b[?2026l\u001b[?2026h\u001b[?25l\u001b[1G\u001b[?25h\u001b[?2026l\u001b[?2026h\u001b[?25l\u001b[1G\u001b[?25h\u001b[?2026l\u001b[?2026h\u001b[?25l\u001b[1G\u001b[?25h\u001b[?2026l\u001b[?2026h\u001b[?25l\u001b[1G\u001b[?25h\u001b[?2026l\u001b[?2026h\u001b[?25l\u001b[1G\u001b[?25h\u001b[?2026l\u001b[?2026h\u001b[?25l\u001b[A\u001b[1G\u001b[?25h\u001b[?2026l\u001b[?2026h\u001b[?25l\u001b[A\u001b[1G\u001b[?25h\u001b[?2026l\u001b[?2026h\u001b[?25l\u001b[A\u001b[1G\u001b[?25h\u001b[?2026l\u001b[?2026h\u001b[?25l\u001b[A\u001b[1G\u001b[?25h\u001b[?2026l\u001b[?2026h\u001b[?25l\u001b[A\u001b[1G\u001b[?25h\u001b[?2026l\u001b[?2026h\u001b[?25l\u001b[A\u001b[1G\u001b[?25h\u001b[?2026l\u001b[?2026h\u001b[?25l\u001b[A\u001b[1G\u001b[?25h\u001b[?2026l\u001b[?2026h\u001b[?25l\u001b[A\u001b[1G\u001b[?25h\u001b[?2026l\u001b[?2026h\u001b[?25l\u001b[A\u001b[1G\u001b[?25h\u001b[?2026l\u001b[?2026h\u001b[?25l\u001b[A\u001b[1G\u001b[?25h\u001b[?2026l\u001b[?2026h\u001b[?25l\u001b[A\u001b[1G\u001b[?25h\u001b[?2026l\u001b[?2026h\u001b[?25l\u001b[A\u001b[1G\u001b[?25h\u001b[?2026l\u001b[?2026h\u001b[?25l\u001b[A\u001b[1G\u001b[?25h\u001b[?2026l\u001b[?2026h\u001b[?25l\u001b[A\u001b[1G\u001b[?25h\u001b[?2026l\u001b[?2026h\u001b[?25l\u001b[A\u001b[1G\u001b[?25h\u001b[?2026l\u001b[?2026h\u001b[?25l\u001b[A\u001b[1G\u001b[?25h\u001b[?2026l\u001b[?2026h\u001b[?25l\u001b[A\u001b[1G\u001b[?25h\u001b[?2026l\u001b[?2026h\u001b[?25l\u001b[A\u001b[1G\u001b[?25h\u001b[?2026l\u001b[?2026h\u001b[?25l\u001b[A\u001b[1G\u001b[?25h\u001b[?2026l\u001b[?2026h\u001b[?25l\u001b[A\u001b[1G\u001b[?25h\u001b[?2026l\u001b[?2026h\u001b[?25l\u001b[A\u001b[1G\u001b[?25h\u001b[?2026l\u001b[?2026h\u001b[?25l\u001b[A\u001b[1G\u001b[?25h\u001b[?2026l\u001b[?2026h\u001b[?25l\u001b[A\u001b[1G\u001b[?25h\u001b[?2026l\u001b[?2026h\u001b[?25l\u001b[A\u001b[1G\u001b[?25h\u001b[?2026l\u001b[?2026h\u001b[?25l\u001b[A\u001b[1G\u001b[?25h\u001b[?2026l\u001b[?2026h\u001b[?25l\u001b[A\u001b[1G\u001b[?25h\u001b[?2026l\u001b[?2026h\u001b[?25l\u001b[A\u001b[1G\u001b[?25h\u001b[?2026l\u001b[?2026h\u001b[?25l\u001b[A\u001b[1G\u001b[?25h\u001b[?2026l\u001b[?2026h\u001b[?25l\u001b[A\u001b[1G\u001b[?25h\u001b[?2026l\u001b[?2026h\u001b[?25l\u001b[A\u001b[1G\u001b[?25h\u001b[?2026l\u001b[?2026h\u001b[?25l\u001b[A\u001b[1G\u001b[?25h\u001b[?2026l\u001b[?2026h\u001b[?25l\u001b[A\u001b[1G\u001b[?25h\u001b[?2026l\u001b[?2026h\u001b[?25l\u001b[A\u001b[1G\u001b[?25h\u001b[?2026l\u001b[?2026h\u001b[?25l\u001b[A\u001b[1G\u001b[?25h\u001b[?2026l\u001b[?2026h\u001b[?25l\u001b[A\u001b[1G\u001b[?25h\u001b[?2026l\u001b[?2026h\u001b[?25l\u001b[A\u001b[A\u001b[1G\u001b[?25h\u001b[?2026l\u001b[?2026h\u001b[?25l\u001b[A\u001b[A\u001b[1G\u001b[?25h\u001b[?2026l\u001b[?2026h\u001b[?25l\u001b[A\u001b[A\u001b[1G\u001b[?25h\u001b[?2026l\u001b[?2026h\u001b[?25l\u001b[A\u001b[A\u001b[1G\u001b[?25h\u001b[?2026l\u001b[?2026h\u001b[?25l\u001b[A\u001b[A\u001b[1G\u001b[?25h\u001b[?2026l\u001b[?2026h\u001b[?25l\u001b[A\u001b[A\u001b[1G\u001b[?25h\u001b[?2026l\u001b[?2026h\u001b[?25l\u001b[A\u001b[A\u001b[1G\u001b[?25h\u001b[?2026l\u001b[?2026h\u001b[?25l\u001b[A\u001b[A\u001b[1G\u001b[?25h\u001b[?2026l\u001b[?2026h\u001b[?25l\u001b[A\u001b[A\u001b[1G\u001b[?25h\u001b[?2026l\u001b[?2026h\u001b[?25l\u001b[A\u001b[A\u001b[1G\u001b[?25h\u001b[?2026l\u001b[?2026h\u001b[?25l\u001b[A\u001b[A\u001b[1G\u001b[?25h\u001b[?2026l\u001b[?2026h\u001b[?25l\u001b[A\u001b[A\u001b[1G\u001b[?25h\u001b[?2026l\u001b[?2026h\u001b[?25l\u001b[A\u001b[A\u001b[1G\u001b[?25h\u001b[?2026l\u001b[?2026h\u001b[?25l\u001b[A\u001b[A\u001b[1G\u001b[?25h\u001b[?2026l\u001b[?2026h\u001b[?25l\u001b[A\u001b[A\u001b[1G\u001b[?25h\u001b[?2026l\u001b[?2026h\u001b[?25l\u001b[A\u001b[A\u001b[1G\u001b[?25h\u001b[?2026l\u001b[?2026h\u001b[?25l\u001b[A\u001b[A\u001b[A\u001b[1G\u001b[?25h\u001b[?2026l\u001b[?2026h\u001b[?25l\u001b[A\u001b[A\u001b[A\u001b[1G\u001b[?25h\u001b[?2026l\u001b[?2026h\u001b[?25l\u001b[A\u001b[A\u001b[A\u001b[1G\u001b[?25h\u001b[?2026l\u001b[?2026h\u001b[?25l\u001b[A\u001b[A\u001b[A\u001b[1G\u001b[?25h\u001b[?2026l\u001b[?2026h\u001b[?25l\u001b[A\u001b[A\u001b[A\u001b[1G\u001b[?25h\u001b[?2026l\u001b[?2026h\u001b[?25l\u001b[A\u001b[A\u001b[A\u001b[1G\u001b[?25h\u001b[?2026l\u001b[?2026h\u001b[?25l\u001b[A\u001b[A\u001b[A\u001b[1G\u001b[?25h\u001b[?2026l\u001b[?2026h\u001b[?25l\u001b[A\u001b[A\u001b[A\u001b[1G\u001b[?25h\u001b[?2026l\u001b[?2026h\u001b[?25l\u001b[A\u001b[A\u001b[A\u001b[1G\u001b[?25h\u001b[?2026l\u001b[?2026h\u001b[?25l\u001b[A\u001b[A\u001b[A\u001b[1G\u001b[?25h\u001b[?2026l\u001b[?2026h\u001b[?25l\u001b[A\u001b[A\u001b[A\u001b[1G\u001b[?25h\u001b[?2026l\u001b[?2026h\u001b[?25l\u001b[A\u001b[A\u001b[A\u001b[1G\u001b[?25h\u001b[?2026l\u001b[?2026h\u001b[?25l\u001b[A\u001b[A\u001b[A\u001b[1G\u001b[?25h\u001b[?2026l\u001b[?2026h\u001b[?25l\u001b[A\u001b[A\u001b[A\u001b[1G\u001b[?25h\u001b[?2026l\u001b[?2026h\u001b[?25l\u001b[A\u001b[A\u001b[A\u001b[1G\u001b[?25h\u001b[?2026l\u001b[?2026h\u001b[?25l\u001b[A\u001b[A\u001b[A\u001b[A\u001b[1G\u001b[?25h\u001b[?2026l\u001b[?2026h\u001b[?25l\u001b[A\u001b[A\u001b[A\u001b[A\u001b[1G\u001b[?25h\u001b[?2026l\u001b[?2026h\u001b[?25l\u001b[A\u001b[A\u001b[A\u001b[A\u001b[1G\u001b[?25h\u001b[?2026l\u001b[?2026h\u001b[?25l\u001b[A\u001b[A\u001b[A\u001b[A\u001b[1G\u001b[?25h\u001b[?2026l\u001b[?2026h\u001b[?25l\u001b[A\u001b[A\u001b[A\u001b[A\u001b[1G\u001b[?25h\u001b[?2026l\u001b[?2026h\u001b[?25l\u001b[A\u001b[A\u001b[A\u001b[A\u001b[1G\u001b[?25h\u001b[?2026l\u001b[?2026h\u001b[?25l\u001b[A\u001b[A\u001b[A\u001b[A\u001b[1G\u001b[?25h\u001b[?2026l\u001b[?2026h\u001b[?25l\u001b[A\u001b[A\u001b[A\u001b[A\u001b[1G\u001b[?25h\u001b[?2026l\u001b[?2026h\u001b[?25l\u001b[A\u001b[A\u001b[A\u001b[A\u001b[1G\u001b[?25h\u001b[?2026l\u001b[?2026h\u001b[?25l\u001b[A\u001b[A\u001b[A\u001b[A\u001b[1G\u001b[?25h\u001b[?2026l\u001b[?2026h\u001b[?25l\u001b[A\u001b[A\u001b[A\u001b[A\u001b[1G\u001b[?25h\u001b[?2026l\u001b[?2026h\u001b[?25l\u001b[A\u001b[A\u001b[A\u001b[A\u001b[1G\u001b[?25h\u001b[?2026l\u001b[?2026h\u001b[?25l\u001b[A\u001b[A\u001b[A\u001b[A\u001b[1G\u001b[?25h\u001b[?2026l\u001b[?2026h\u001b[?25l\u001b[A\u001b[A\u001b[A\u001b[A\u001b[1G\u001b[?25h\u001b[?2026l\u001b[?2026h\u001b[?25l\u001b[A\u001b[A\u001b[A\u001b[A\u001b[1G\u001b[?25h\u001b[?2026l\u001b[?2026h\u001b[?25l\u001b[A\u001b[A\u001b[A\u001b[A\u001b[1G\u001b[?25h\u001b[?2026l\u001b[?2026h\u001b[?25l\u001b[A\u001b[A\u001b[A\u001b[A\u001b[A\u001b[1G\u001b[?25h\u001b[?2026l\u001b[?2026h\u001b[?25l\u001b[A\u001b[A\u001b[A\u001b[A\u001b[A\u001b[1G\u001b[?25h\u001b[?2026l\u001b[?2026h\u001b[?25l\u001b[A\u001b[A\u001b[A\u001b[A\u001b[A\u001b[1G\u001b[?25h\u001b[?2026l\u001b[?2026h\u001b[?25l\u001b[A\u001b[A\u001b[A\u001b[A\u001b[A\u001b[1G\u001b[?25h\u001b[?2026l\u001b[?2026h\u001b[?25l\u001b[A\u001b[A\u001b[A\u001b[A\u001b[A\u001b[1G\u001b[?25h\u001b[?2026l\u001b[?2026h\u001b[?25l\u001b[A\u001b[A\u001b[A\u001b[A\u001b[A\u001b[1G\u001b[?25h\u001b[?2026l\u001b[?2026h\u001b[?25l\u001b[A\u001b[A\u001b[A\u001b[A\u001b[A\u001b[1G\u001b[?25h\u001b[?2026l\u001b[?2026h\u001b[?25l\u001b[A\u001b[A\u001b[A\u001b[A\u001b[A\u001b[A\u001b[1G\u001b[?25h\u001b[?2026l\u001b[?2026h\u001b[?25l\u001b[A\u001b[A\u001b[A\u001b[A\u001b[A\u001b[A\u001b[1G\u001b[?25h\u001b[?2026l\u001b[?2026h\u001b[?25l\u001b[A\u001b[A\u001b[A\u001b[A\u001b[A\u001b[A\u001b[1G\u001b[?25h\u001b[?2026l\u001b[?2026h\u001b[?25l\u001b[A\u001b[A\u001b[A\u001b[A\u001b[A\u001b[A\u001b[1G\u001b[?25h\u001b[?2026l\u001b[?2026h\u001b[?25l\u001b[A\u001b[A\u001b[A\u001b[A\u001b[A\u001b[A\u001b[1G\u001b[?25h\u001b[?2026l\u001b[?2026h\u001b[?25l\u001b[A\u001b[A\u001b[A\u001b[A\u001b[A\u001b[A\u001b[1G\u001b[?25h\u001b[?2026l\u001b[?2026h\u001b[?25l\u001b[A\u001b[A\u001b[A\u001b[A\u001b[A\u001b[A\u001b[1G\u001b[?25h\u001b[?2026l\u001b[?2026h\u001b[?25l\u001b[A\u001b[A\u001b[A\u001b[A\u001b[A\u001b[A\u001b[1G\u001b[?25h\u001b[?2026l\u001b[?2026h\u001b[?25l\u001b[A\u001b[A\u001b[A\u001b[A\u001b[A\u001b[A\u001b[1G\u001b[?25h\u001b[?2026l\u001b[?2026h\u001b[?25l\u001b[A\u001b[A\u001b[A\u001b[A\u001b[A\u001b[A\u001b[1G\u001b[?25h\u001b[?2026l\u001b[?2026h\u001b[?25l\u001b[A\u001b[A\u001b[A\u001b[A\u001b[A\u001b[A\u001b[1G\u001b[?25h\u001b[?2026l\u001b[?2026h\u001b[?25l\u001b[A\u001b[A\u001b[A\u001b[A\u001b[A\u001b[A\u001b[1G\u001b[?25h\u001b[?2026l\u001b[?2026h\u001b[?25l\u001b[A\u001b[A\u001b[A\u001b[A\u001b[A\u001b[A\u001b[1G\u001b[?25h\u001b[?2026l\u001b[?2026h\u001b[?25l\u001b[A\u001b[A\u001b[A\u001b[A\u001b[A\u001b[A\u001b[1G\u001b[?25h\u001b[?2026l\u001b[?2026h\u001b[?25l\u001b[A\u001b[A\u001b[A\u001b[A\u001b[A\u001b[A\u001b[1G\u001b[?25h\u001b[?2026l\u001b[?2026h\u001b[?25l\u001b[A\u001b[A\u001b[A\u001b[A\u001b[A\u001b[A\u001b[1G\u001b[?25h\u001b[?2026l\u001b[?2026h\u001b[?25l\u001b[A\u001b[A\u001b[A\u001b[A\u001b[A\u001b[A\u001b[1G\u001b[?25h\u001b[?2026l\n"
          ]
        }
      ]
    },
    {
      "cell_type": "code",
      "source": [
        "# @title Generate Code Libs\n",
        "def generate_code(\n",
        "    model_name: str, data_point: DataPoint\n",
        ") -> str:\n",
        "  messages = build_prompt(data_point)\n",
        "\n",
        "  url = 'http://localhost:11434/api/chat'\n",
        "  payload = {\n",
        "      \"model\": model_name,\n",
        "      \"temperature\": 0.6,\n",
        "      \"stream\": False,\n",
        "      \"messages\": messages,\n",
        "      \"options\": {\n",
        "          # Set the max output tokens.\n",
        "          \"num_predict\": 2048\n",
        "      }\n",
        "  }\n",
        "\n",
        "  response = requests.post(url, json=payload)\n",
        "  message_str = response.content.decode('utf-8')\n",
        "  message_dict = json.loads(message_str)\n",
        "  resp_str = message_dict['message']['content']\n",
        "\n",
        "  prefix = \"```python\"\n",
        "  suffix = \"```\"\n",
        "  while True:\n",
        "    prefix_idx = resp_str.find(prefix)\n",
        "    if prefix_idx != -1:\n",
        "      resp_str = resp_str[prefix_idx + len(prefix) :]\n",
        "    else:\n",
        "      break\n",
        "  suffix_idx = resp_str.find(suffix)\n",
        "  if suffix_idx != -1:\n",
        "    resp_str = resp_str[: suffix_idx]\n",
        "  return resp_str.strip()\n",
        "\n",
        "# # Test\n",
        "# generate_code(model_name, data_points[4])"
      ],
      "metadata": {
        "id": "HIbw8ttGZBhe"
      },
      "execution_count": 10,
      "outputs": []
    },
    {
      "cell_type": "code",
      "source": [
        "# @title JIT Python execution libs\n",
        "\n",
        "import typing\n",
        "import numpy as np\n",
        "\n",
        "\n",
        "def exec_and_ret(code_str: str, input: np.ndarray) -> typing.Any:\n",
        "  \"\"\"Execute a string of code and return the result.\n",
        "\n",
        "  The result must be assigned to a variable named 'ret'.\n",
        "\n",
        "  Args:\n",
        "    code_str: A string of code.\n",
        "    input: the input to the code.\n",
        "\n",
        "  Returns:\n",
        "    The result of the code.\n",
        "  \"\"\"\n",
        "  loc = {}\n",
        "  exec(code_str, {'input': input}, loc)\n",
        "  return loc['ret']\n",
        "\n",
        "\n",
        "# # Test\n",
        "# code_str = \"\"\"ret = 1 + 2\"\"\"\n",
        "# assert 3 == exec_and_ret(code_str, input)"
      ],
      "metadata": {
        "cellView": "form",
        "id": "FzKQS_bPLnxW"
      },
      "execution_count": 11,
      "outputs": []
    },
    {
      "cell_type": "code",
      "source": [
        "# @title Verification libs\n",
        "!pip install func-timeout\n",
        "\n",
        "from typing import Any\n",
        "from func_timeout import func_timeout, FunctionTimedOut\n",
        "\n",
        "\n",
        "def verify_code(\n",
        "    code_str: str, data_point: DataPoint, visualize: bool = False, timeout_seconds:int = 30\n",
        ") -> tuple[bool, list[Any], list[Any]]:\n",
        "  \"\"\"Verify the given code on its expected result.\"\"\"\n",
        "\n",
        "  # This is needed to emit the return of the execution.\n",
        "  code_str += \"\"\"\n",
        "ret = fn(input)\"\"\"\n",
        "\n",
        "  assert data_point.test\n",
        "  inp = data_point.test[0][0].tolist()\n",
        "  expected_output = data_point.test[0][1].tolist()\n",
        "\n",
        "  # Execute the code with a timeout to prevent culprit code never returns.\n",
        "  try:\n",
        "    # The return value of successful_function is captured in 'result'\n",
        "    output = func_timeout(timeout_seconds, exec_and_ret, args=(code_str, inp))\n",
        "\n",
        "    if visualize:\n",
        "      visualize_np_array(output)\n",
        "      visualize_np_array(expected_output)\n",
        "\n",
        "    is_match = np.allclose(np.array(output), np.array(expected_output))\n",
        "\n",
        "    return is_match, output, expected_output\n",
        "  except FunctionTimedOut:\n",
        "    print(f\"🛑 The function was killed after {timeout_seconds} seconds.\\n\")\n",
        "    return False, None, expected_output\n",
        "\n",
        "\n",
        "# # Test\n",
        "# is_match, output, expected_output = verify_code(\n",
        "#     \"\"\"def fn(inp):\n",
        "#       return 1\"\"\",\n",
        "#     data_points[0],\n",
        "# )\n",
        "# print(is_match)"
      ],
      "metadata": {
        "colab": {
          "base_uri": "https://localhost:8080/"
        },
        "id": "_r1RDn0lMe4M",
        "outputId": "65d42c21-c927-4071-f72e-2ed4847808d5"
      },
      "execution_count": 12,
      "outputs": [
        {
          "output_type": "stream",
          "name": "stdout",
          "text": [
            "Collecting func-timeout\n",
            "  Downloading func_timeout-4.3.5.tar.gz (44 kB)\n",
            "\u001b[?25l     \u001b[90m━━━━━━━━━━━━━━━━━━━━━━━━━━━━━━━━━━━━━━━━\u001b[0m \u001b[32m0.0/44.3 kB\u001b[0m \u001b[31m?\u001b[0m eta \u001b[36m-:--:--\u001b[0m\r\u001b[2K     \u001b[90m━━━━━━━━━━━━━━━━━━━━━━━━━━━━━━━━━━━━━━━━\u001b[0m \u001b[32m44.3/44.3 kB\u001b[0m \u001b[31m4.8 MB/s\u001b[0m eta \u001b[36m0:00:00\u001b[0m\n",
            "\u001b[?25h  Preparing metadata (setup.py) ... \u001b[?25l\u001b[?25hdone\n",
            "Building wheels for collected packages: func-timeout\n",
            "  Building wheel for func-timeout (setup.py) ... \u001b[?25l\u001b[?25hdone\n",
            "  Created wheel for func-timeout: filename=func_timeout-4.3.5-py3-none-any.whl size=15077 sha256=b6f41ffdd3d76008be29a15aecfe9aaea9fb1acf4e30b1a20bf74f33cb63bd1c\n",
            "  Stored in directory: /root/.cache/pip/wheels/07/e6/86/f23164d12c3134966614102db8e7956ab359faf7ffd78703ce\n",
            "Successfully built func-timeout\n",
            "Installing collected packages: func-timeout\n",
            "Successfully installed func-timeout-4.3.5\n"
          ]
        }
      ]
    },
    {
      "cell_type": "markdown",
      "source": [
        "# Run evals"
      ],
      "metadata": {
        "id": "oYpg9CDsgZMo"
      }
    },
    {
      "cell_type": "code",
      "source": [
        "# @title Eval Libs\n",
        "\n",
        "from itertools import repeat\n",
        "import traceback\n",
        "\n",
        "def eval_single_dp(dp: DataPoint, model_name: str) -> bool:\n",
        "  generated_code = generate_code(model_name, dp)\n",
        "  try:\n",
        "    is_match, _, _ = verify_code(generated_code, dp)\n",
        "  except Exception as e:\n",
        "    stack_trace = traceback.extract_stack()\n",
        "    err_msg = f\"Error: {e}. Stack trace: {stack_trace}\"\n",
        "    err = ValueError(err_msg)\n",
        "    # print(err_msg)\n",
        "    return False, err\n",
        "\n",
        "  return is_match, None\n",
        "\n",
        "\n",
        "def run_eval_loop(data_points: list[DataPoint], model_name: str) -> list[bool]:\n",
        "  download_ollama_model_if_necessary(model_name)\n",
        "  with concurrent.futures.ThreadPoolExecutor(\n",
        "      max_workers=4, thread_name_prefix=\"Worker\"\n",
        "  ) as executor:\n",
        "    eval_results = list(\n",
        "        tqdm.tqdm(\n",
        "            executor.map(eval_single_dp, data_points, repeat(model_name)),\n",
        "            total=len(data_points),\n",
        "        )\n",
        "    )\n",
        "    return eval_results"
      ],
      "metadata": {
        "id": "P3bBjix_gaOi"
      },
      "execution_count": 13,
      "outputs": []
    },
    {
      "cell_type": "code",
      "source": [
        "models = {\n",
        "    # Works\n",
        "    # \"QWEN3_CODER_30B\": \"qwen3-coder:30b\", # 18GB disk space\n",
        "    # \"QWEN3_06B\": \"qwen3:0.6b\",            # 522MB disk space\n",
        "    # \"QWEN2P5_CODER_0P5B\": \"qwen2.5-coder:0.5b\",\n",
        "    # \"QWEN2P5_CODER_1P5B\": \"qwen2.5-coder:1.5b\",\n",
        "    # \"QWEN2P5_CODER_7B\": \"qwen2.5-coder:7b\",\n",
        "    # \"QWEN2P5_CODER_14B\": \"qwen2.5-coder:14b\",\n",
        "    # \"QWEN2P5_CODER_32B\": \"qwen2.5-coder:32b\",   # 19GB disk space\n",
        "    # \"DS_CODER_1P3B\": \"deepseek-coder:1.3b\",\n",
        "    # \"DS_CODER_6P7B\": \"deepseek-coder:6.7b\",\n",
        "    # \"DS_CODER_33B\": \"deepseek-coder:33b\",\n",
        "    \"QWEN3_CODER_30B_LATEST\": \"hf.co/unsloth/Qwen3-Coder-30B-A3B-Instruct-GGUF\",   # 18GB disk space\n",
        "    # \"QWEN3_CODER_30B_Q5_K_S\": \"hf.co/unsloth/Qwen3-Coder-30B-A3B-Instruct-GGUF:Q5_K_S\",   # 21GB disk space\n",
        "\n",
        "    # Not work\n",
        "}\n",
        "\n",
        "eval_dps = data_points\n",
        "\n",
        "model_eval_results = dict()\n",
        "for model_name, model_name in models.items():\n",
        "  print(f\"Evaluating **{model_name}** ...\")\n",
        "  eval_results = run_eval_loop(eval_dps, model_name)\n",
        "  model_eval_results[model_name] = eval_results\n",
        "\n",
        "  is_matches = [result[0] for result in eval_results]\n",
        "  errors = [result[1] for result in eval_results]\n",
        "\n",
        "  num_valid_code = errors.count(None)\n",
        "  num_invalid_code = errors.count(not None)\n",
        "  num_correct_code = sum(is_matches)\n",
        "  num_incorrect_code = num_valid_code - num_correct_code\n",
        "\n",
        "  print(\n",
        "      f\"Valid code rate = {num_valid_code / len(eval_results):.2f}\"\n",
        "  )\n",
        "  print(\n",
        "      f\"Correct code rate =\"\n",
        "      f\" {num_correct_code / len(eval_results):.2f}\"\n",
        "  )\n",
        "  print(\"=\" * 80)\n",
        "  print(\"=\" * 80)\n",
        "  print(\"=\" * 80)"
      ],
      "metadata": {
        "colab": {
          "base_uri": "https://localhost:8080/",
          "height": 391
        },
        "id": "p0NUrgAlgjzj",
        "outputId": "0aa69fb7-4d46-4b79-d824-41c1e93c8449"
      },
      "execution_count": 27,
      "outputs": [
        {
          "output_type": "stream",
          "name": "stdout",
          "text": [
            "Evaluating **hf.co/unsloth/Qwen3-Coder-30B-A3B-Instruct-GGUF** ...\n"
          ]
        },
        {
          "output_type": "stream",
          "name": "stderr",
          "text": [
            "  4%|▍         | 17/400 [09:30<3:34:20, 33.58s/it]\n"
          ]
        },
        {
          "output_type": "error",
          "ename": "KeyboardInterrupt",
          "evalue": "",
          "traceback": [
            "\u001b[0;31m---------------------------------------------------------------------------\u001b[0m",
            "\u001b[0;31mKeyboardInterrupt\u001b[0m                         Traceback (most recent call last)",
            "\u001b[0;32m/tmp/ipython-input-4287579444.py\u001b[0m in \u001b[0;36m<cell line: 0>\u001b[0;34m()\u001b[0m\n\u001b[1;32m     22\u001b[0m \u001b[0;32mfor\u001b[0m \u001b[0mmodel_name\u001b[0m\u001b[0;34m,\u001b[0m \u001b[0mmodel_name\u001b[0m \u001b[0;32min\u001b[0m \u001b[0mmodels\u001b[0m\u001b[0;34m.\u001b[0m\u001b[0mitems\u001b[0m\u001b[0;34m(\u001b[0m\u001b[0;34m)\u001b[0m\u001b[0;34m:\u001b[0m\u001b[0;34m\u001b[0m\u001b[0;34m\u001b[0m\u001b[0m\n\u001b[1;32m     23\u001b[0m   \u001b[0mprint\u001b[0m\u001b[0;34m(\u001b[0m\u001b[0;34mf\"Evaluating **{model_name}** ...\"\u001b[0m\u001b[0;34m)\u001b[0m\u001b[0;34m\u001b[0m\u001b[0;34m\u001b[0m\u001b[0m\n\u001b[0;32m---> 24\u001b[0;31m   \u001b[0meval_results\u001b[0m \u001b[0;34m=\u001b[0m \u001b[0mrun_eval_loop\u001b[0m\u001b[0;34m(\u001b[0m\u001b[0meval_dps\u001b[0m\u001b[0;34m,\u001b[0m \u001b[0mmodel_name\u001b[0m\u001b[0;34m)\u001b[0m\u001b[0;34m\u001b[0m\u001b[0;34m\u001b[0m\u001b[0m\n\u001b[0m\u001b[1;32m     25\u001b[0m   \u001b[0mmodel_eval_results\u001b[0m\u001b[0;34m[\u001b[0m\u001b[0mmodel_name\u001b[0m\u001b[0;34m]\u001b[0m \u001b[0;34m=\u001b[0m \u001b[0meval_results\u001b[0m\u001b[0;34m\u001b[0m\u001b[0;34m\u001b[0m\u001b[0m\n\u001b[1;32m     26\u001b[0m \u001b[0;34m\u001b[0m\u001b[0m\n",
            "\u001b[0;32m/tmp/ipython-input-1592857677.py\u001b[0m in \u001b[0;36mrun_eval_loop\u001b[0;34m(data_points, model_name)\u001b[0m\n\u001b[1;32m     23\u001b[0m       \u001b[0mmax_workers\u001b[0m\u001b[0;34m=\u001b[0m\u001b[0;36m4\u001b[0m\u001b[0;34m,\u001b[0m \u001b[0mthread_name_prefix\u001b[0m\u001b[0;34m=\u001b[0m\u001b[0;34m\"Worker\"\u001b[0m\u001b[0;34m\u001b[0m\u001b[0;34m\u001b[0m\u001b[0m\n\u001b[1;32m     24\u001b[0m   ) as executor:\n\u001b[0;32m---> 25\u001b[0;31m     eval_results = list(\n\u001b[0m\u001b[1;32m     26\u001b[0m         tqdm.tqdm(\n\u001b[1;32m     27\u001b[0m             \u001b[0mexecutor\u001b[0m\u001b[0;34m.\u001b[0m\u001b[0mmap\u001b[0m\u001b[0;34m(\u001b[0m\u001b[0meval_single_dp\u001b[0m\u001b[0;34m,\u001b[0m \u001b[0mdata_points\u001b[0m\u001b[0;34m,\u001b[0m \u001b[0mrepeat\u001b[0m\u001b[0;34m(\u001b[0m\u001b[0mmodel_name\u001b[0m\u001b[0;34m)\u001b[0m\u001b[0;34m)\u001b[0m\u001b[0;34m,\u001b[0m\u001b[0;34m\u001b[0m\u001b[0;34m\u001b[0m\u001b[0m\n",
            "\u001b[0;32m/usr/local/lib/python3.11/dist-packages/tqdm/std.py\u001b[0m in \u001b[0;36m__iter__\u001b[0;34m(self)\u001b[0m\n\u001b[1;32m   1179\u001b[0m \u001b[0;34m\u001b[0m\u001b[0m\n\u001b[1;32m   1180\u001b[0m         \u001b[0;32mtry\u001b[0m\u001b[0;34m:\u001b[0m\u001b[0;34m\u001b[0m\u001b[0;34m\u001b[0m\u001b[0m\n\u001b[0;32m-> 1181\u001b[0;31m             \u001b[0;32mfor\u001b[0m \u001b[0mobj\u001b[0m \u001b[0;32min\u001b[0m \u001b[0miterable\u001b[0m\u001b[0;34m:\u001b[0m\u001b[0;34m\u001b[0m\u001b[0;34m\u001b[0m\u001b[0m\n\u001b[0m\u001b[1;32m   1182\u001b[0m                 \u001b[0;32myield\u001b[0m \u001b[0mobj\u001b[0m\u001b[0;34m\u001b[0m\u001b[0;34m\u001b[0m\u001b[0m\n\u001b[1;32m   1183\u001b[0m                 \u001b[0;31m# Update and possibly print the progressbar.\u001b[0m\u001b[0;34m\u001b[0m\u001b[0;34m\u001b[0m\u001b[0m\n",
            "\u001b[0;32m/usr/lib/python3.11/concurrent/futures/_base.py\u001b[0m in \u001b[0;36mresult_iterator\u001b[0;34m()\u001b[0m\n\u001b[1;32m    617\u001b[0m                     \u001b[0;31m# Careful not to keep a reference to the popped future\u001b[0m\u001b[0;34m\u001b[0m\u001b[0;34m\u001b[0m\u001b[0m\n\u001b[1;32m    618\u001b[0m                     \u001b[0;32mif\u001b[0m \u001b[0mtimeout\u001b[0m \u001b[0;32mis\u001b[0m \u001b[0;32mNone\u001b[0m\u001b[0;34m:\u001b[0m\u001b[0;34m\u001b[0m\u001b[0;34m\u001b[0m\u001b[0m\n\u001b[0;32m--> 619\u001b[0;31m                         \u001b[0;32myield\u001b[0m \u001b[0m_result_or_cancel\u001b[0m\u001b[0;34m(\u001b[0m\u001b[0mfs\u001b[0m\u001b[0;34m.\u001b[0m\u001b[0mpop\u001b[0m\u001b[0;34m(\u001b[0m\u001b[0;34m)\u001b[0m\u001b[0;34m)\u001b[0m\u001b[0;34m\u001b[0m\u001b[0;34m\u001b[0m\u001b[0m\n\u001b[0m\u001b[1;32m    620\u001b[0m                     \u001b[0;32melse\u001b[0m\u001b[0;34m:\u001b[0m\u001b[0;34m\u001b[0m\u001b[0;34m\u001b[0m\u001b[0m\n\u001b[1;32m    621\u001b[0m                         \u001b[0;32myield\u001b[0m \u001b[0m_result_or_cancel\u001b[0m\u001b[0;34m(\u001b[0m\u001b[0mfs\u001b[0m\u001b[0;34m.\u001b[0m\u001b[0mpop\u001b[0m\u001b[0;34m(\u001b[0m\u001b[0;34m)\u001b[0m\u001b[0;34m,\u001b[0m \u001b[0mend_time\u001b[0m \u001b[0;34m-\u001b[0m \u001b[0mtime\u001b[0m\u001b[0;34m.\u001b[0m\u001b[0mmonotonic\u001b[0m\u001b[0;34m(\u001b[0m\u001b[0;34m)\u001b[0m\u001b[0;34m)\u001b[0m\u001b[0;34m\u001b[0m\u001b[0;34m\u001b[0m\u001b[0m\n",
            "\u001b[0;32m/usr/lib/python3.11/concurrent/futures/_base.py\u001b[0m in \u001b[0;36m_result_or_cancel\u001b[0;34m(***failed resolving arguments***)\u001b[0m\n\u001b[1;32m    315\u001b[0m     \u001b[0;32mtry\u001b[0m\u001b[0;34m:\u001b[0m\u001b[0;34m\u001b[0m\u001b[0;34m\u001b[0m\u001b[0m\n\u001b[1;32m    316\u001b[0m         \u001b[0;32mtry\u001b[0m\u001b[0;34m:\u001b[0m\u001b[0;34m\u001b[0m\u001b[0;34m\u001b[0m\u001b[0m\n\u001b[0;32m--> 317\u001b[0;31m             \u001b[0;32mreturn\u001b[0m \u001b[0mfut\u001b[0m\u001b[0;34m.\u001b[0m\u001b[0mresult\u001b[0m\u001b[0;34m(\u001b[0m\u001b[0mtimeout\u001b[0m\u001b[0;34m)\u001b[0m\u001b[0;34m\u001b[0m\u001b[0;34m\u001b[0m\u001b[0m\n\u001b[0m\u001b[1;32m    318\u001b[0m         \u001b[0;32mfinally\u001b[0m\u001b[0;34m:\u001b[0m\u001b[0;34m\u001b[0m\u001b[0;34m\u001b[0m\u001b[0m\n\u001b[1;32m    319\u001b[0m             \u001b[0mfut\u001b[0m\u001b[0;34m.\u001b[0m\u001b[0mcancel\u001b[0m\u001b[0;34m(\u001b[0m\u001b[0;34m)\u001b[0m\u001b[0;34m\u001b[0m\u001b[0;34m\u001b[0m\u001b[0m\n",
            "\u001b[0;32m/usr/lib/python3.11/concurrent/futures/_base.py\u001b[0m in \u001b[0;36mresult\u001b[0;34m(self, timeout)\u001b[0m\n\u001b[1;32m    449\u001b[0m                     \u001b[0;32mreturn\u001b[0m \u001b[0mself\u001b[0m\u001b[0;34m.\u001b[0m\u001b[0m__get_result\u001b[0m\u001b[0;34m(\u001b[0m\u001b[0;34m)\u001b[0m\u001b[0;34m\u001b[0m\u001b[0;34m\u001b[0m\u001b[0m\n\u001b[1;32m    450\u001b[0m \u001b[0;34m\u001b[0m\u001b[0m\n\u001b[0;32m--> 451\u001b[0;31m                 \u001b[0mself\u001b[0m\u001b[0;34m.\u001b[0m\u001b[0m_condition\u001b[0m\u001b[0;34m.\u001b[0m\u001b[0mwait\u001b[0m\u001b[0;34m(\u001b[0m\u001b[0mtimeout\u001b[0m\u001b[0;34m)\u001b[0m\u001b[0;34m\u001b[0m\u001b[0;34m\u001b[0m\u001b[0m\n\u001b[0m\u001b[1;32m    452\u001b[0m \u001b[0;34m\u001b[0m\u001b[0m\n\u001b[1;32m    453\u001b[0m                 \u001b[0;32mif\u001b[0m \u001b[0mself\u001b[0m\u001b[0;34m.\u001b[0m\u001b[0m_state\u001b[0m \u001b[0;32min\u001b[0m \u001b[0;34m[\u001b[0m\u001b[0mCANCELLED\u001b[0m\u001b[0;34m,\u001b[0m \u001b[0mCANCELLED_AND_NOTIFIED\u001b[0m\u001b[0;34m]\u001b[0m\u001b[0;34m:\u001b[0m\u001b[0;34m\u001b[0m\u001b[0;34m\u001b[0m\u001b[0m\n",
            "\u001b[0;32m/usr/lib/python3.11/threading.py\u001b[0m in \u001b[0;36mwait\u001b[0;34m(self, timeout)\u001b[0m\n\u001b[1;32m    325\u001b[0m         \u001b[0;32mtry\u001b[0m\u001b[0;34m:\u001b[0m    \u001b[0;31m# restore state no matter what (e.g., KeyboardInterrupt)\u001b[0m\u001b[0;34m\u001b[0m\u001b[0;34m\u001b[0m\u001b[0m\n\u001b[1;32m    326\u001b[0m             \u001b[0;32mif\u001b[0m \u001b[0mtimeout\u001b[0m \u001b[0;32mis\u001b[0m \u001b[0;32mNone\u001b[0m\u001b[0;34m:\u001b[0m\u001b[0;34m\u001b[0m\u001b[0;34m\u001b[0m\u001b[0m\n\u001b[0;32m--> 327\u001b[0;31m                 \u001b[0mwaiter\u001b[0m\u001b[0;34m.\u001b[0m\u001b[0macquire\u001b[0m\u001b[0;34m(\u001b[0m\u001b[0;34m)\u001b[0m\u001b[0;34m\u001b[0m\u001b[0;34m\u001b[0m\u001b[0m\n\u001b[0m\u001b[1;32m    328\u001b[0m                 \u001b[0mgotit\u001b[0m \u001b[0;34m=\u001b[0m \u001b[0;32mTrue\u001b[0m\u001b[0;34m\u001b[0m\u001b[0;34m\u001b[0m\u001b[0m\n\u001b[1;32m    329\u001b[0m             \u001b[0;32melse\u001b[0m\u001b[0;34m:\u001b[0m\u001b[0;34m\u001b[0m\u001b[0;34m\u001b[0m\u001b[0m\n",
            "\u001b[0;31mKeyboardInterrupt\u001b[0m: "
          ]
        }
      ]
    },
    {
      "cell_type": "markdown",
      "source": [
        "# Result summary"
      ],
      "metadata": {
        "id": "nErJ_3-NmjlD"
      }
    },
    {
      "cell_type": "markdown",
      "source": [
        "\n",
        "Evaluating **qwen2.5-coder:0.5b** ...\n",
        "100%|██████████| 400/400 [1:12:40<00:00, 10.90s/it]\n",
        "Valid code rate = 0.04\n",
        "Correct code rate = 0.00\n",
        "================================================================================\n",
        "================================================================================\n",
        "================================================================================\n",
        "Evaluating **qwen2.5-coder:1.5b** ...\n",
        "100%|██████████| 400/400 [40:43<00:00,  6.11s/it]\n",
        "Valid code rate = 0.15\n",
        "Correct code rate = 0.00\n",
        "================================================================================\n",
        "================================================================================\n",
        "================================================================================\n",
        "Evaluating **qwen2.5-coder:7b** ...\n",
        "100%|██████████| 400/400 [46:58<00:00,  7.05s/it]\n",
        "Valid code rate = 0.34\n",
        "Correct code rate = 0.01\n",
        "================================================================================\n",
        "================================================================================\n",
        "================================================================================\n",
        "Evaluating **qwen2.5-coder:14b** ...\n",
        "100%|██████████| 400/400 [1:54:58<00:00, 17.25s/it]\n",
        "Valid code rate = 0.39\n",
        "Correct code rate = 0.03\n",
        "================================================================================\n",
        "================================================================================\n",
        "================================================================================\n",
        "Evaluating **qwen3-coder:30b** ...\n",
        "100%|██████████| 400/400 [4:49:12<00:00, 43.38s/it]\n",
        "Valid code rate = 0.61\n",
        "Correct code rate = 0.11\n",
        "================================================================================\n",
        "================================================================================\n",
        "================================================================================\n",
        "\n",
        "\n",
        "Evaluating **deepseek-coder:1.3b** ...\n",
        "100%|██████████| 400/400 [45:09<00:00,  6.77s/it]Valid code rate = 0.00\n",
        "Correct code rate = 0.00\n",
        "================================================================================\n",
        "================================================================================\n",
        "================================================================================\n",
        "Evaluating **deepseek-coder:6.7b** ...\n",
        "100%|██████████| 400/400 [1:13:30<00:00, 11.03s/it]\n",
        "Valid code rate = 0.19\n",
        "Correct code rate = 0.01\n",
        "================================================================================\n",
        "================================================================================\n",
        "================================================================================\n",
        "Evaluating **deepseek-coder:33b** ...\n",
        "100%|██████████| 400/400 [6:04:08<00:00, 54.62s/it]\n",
        "Valid code rate = 0.20\n",
        "Correct code rate = 0.05\n",
        "================================================================================\n",
        "================================================================================\n",
        "================================================================================"
      ],
      "metadata": {
        "id": "7iCzt3oMmlWU"
      }
    }
  ]
}